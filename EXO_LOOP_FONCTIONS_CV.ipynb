{
 "cells": [
  {
   "cell_type": "code",
   "execution_count": 11,
   "id": "421cd7c3",
   "metadata": {
    "tags": []
   },
   "outputs": [],
   "source": [
    "import matplotlib.pyplot as plt"
   ]
  },
  {
   "cell_type": "markdown",
   "id": "096b3e36",
   "metadata": {},
   "source": [
    "\n",
    "# Exercices sur les Boucles et les Fonctions"
   ]
  },
  {
   "cell_type": "markdown",
   "id": "5ab758fd",
   "metadata": {
    "tags": []
   },
   "source": [
    "\n",
    "## Exercice 1\n",
    "\n",
    "Vous avez un ensemble de données contenant des informations sur les ventes de différents produits. \n",
    "\n",
    "\n",
    "Utilisez une boucle pour compter combien de fois chaque produit a été vendu.\n",
    "\n",
    "vos données : `ventes = {'produitA': 150, 'produitB': 200, 'produitC': 50}`\n"
   ]
  },
  {
   "cell_type": "code",
   "execution_count": 16,
   "id": "1afa4086",
   "metadata": {
    "tags": []
   },
   "outputs": [],
   "source": [
    "ventes = {'produitA': 150, 'produitB': 200, 'produitC': 50}"
   ]
  },
  {
   "cell_type": "code",
   "execution_count": 2,
   "id": "a9b55e50",
   "metadata": {
    "tags": []
   },
   "outputs": [
    {
     "name": "stdout",
     "output_type": "stream",
     "text": [
      "produitA a été vendu 150 fois.\n",
      "produitB a été vendu 200 fois.\n",
      "produitC a été vendu 50 fois.\n"
     ]
    }
   ],
   "source": [
    "def afficher_ventes(ventes):\n",
    "    for produit, quantite in ventes.items():\n",
    "        print(f\"{produit} a été vendu {quantite} fois.\")\n",
    "\n",
    "ventes = {'produitA': 150, 'produitB': 200, 'produitC': 50}\n",
    "\n",
    "afficher_ventes(ventes)\n"
   ]
  },
  {
   "cell_type": "markdown",
   "id": "de4da6b2",
   "metadata": {},
   "source": [
    "\n",
    "## Exercice 2\n",
    "\n",
    "Créez une fonction qui normalise les éléments d'une liste en les convertissant en minuscules et en supprimant les espaces superflus. \n",
    "\n",
    "Utilisez cette fonction sur la liste suivante :\n",
    "\n",
    "`['Thermomix   TM6', ' twingo ', 'GIBSON   LES PAUL']`\n"
   ]
  },
  {
   "cell_type": "code",
   "execution_count": 8,
   "id": "60268295",
   "metadata": {
    "tags": []
   },
   "outputs": [
    {
     "name": "stdout",
     "output_type": "stream",
     "text": [
      "['thermomix   tm6', 'twingo', 'gibson   les paul']\n"
     ]
    }
   ],
   "source": [
    "def normaliser_liste(liste):\n",
    "    return [element.strip().lower() for element in liste] \n",
    "\n",
    "liste_elements = ['Thermomix   TM6', ' twingo ', 'GIBSON   LES PAUL']\n",
    "\n",
    "liste_normalisee = normaliser_liste(liste_elements)\n",
    "\n",
    "print(liste_normalisee)\n"
   ]
  },
  {
   "cell_type": "markdown",
   "id": "d61176b3",
   "metadata": {},
   "source": [
    "\n",
    "## Exercice 3\n",
    "\n",
    "Considérons la Liste des prix suivante : `[10.99, 8.99, 12.50, 15.99, 7.50]`\n",
    "\n",
    "Utilisez une boucle pour calculer la moyenne des prix.\n"
   ]
  },
  {
   "cell_type": "code",
   "execution_count": 12,
   "id": "0924ff0d",
   "metadata": {
    "tags": []
   },
   "outputs": [],
   "source": [
    "# Liste des prix\n",
    "prix = [10.99, 8.99, 12.50, 15.99, 7.50]\n"
   ]
  },
  {
   "cell_type": "code",
   "execution_count": 14,
   "id": "07767be7",
   "metadata": {
    "tags": []
   },
   "outputs": [
    {
     "name": "stdout",
     "output_type": "stream",
     "text": [
      "La moyenne des prix est 11.19\n"
     ]
    }
   ],
   "source": [
    "somme = 0\n",
    "\n",
    "for p in prix:\n",
    "    somme += p\n",
    "\n",
    "moyenne = somme / len(prix)\n",
    "\n",
    "print(f\"La moyenne des prix est {moyenne:.2f}\")\n"
   ]
  },
  {
   "cell_type": "code",
   "execution_count": null,
   "id": "f0d29db1-ea8d-42e8-bacd-94755bd77906",
   "metadata": {},
   "outputs": [],
   "source": []
  }
 ],
 "metadata": {
  "kernelspec": {
   "display_name": "Python 3 (ipykernel)",
   "language": "python",
   "name": "python3"
  },
  "language_info": {
   "codemirror_mode": {
    "name": "ipython",
    "version": 3
   },
   "file_extension": ".py",
   "mimetype": "text/x-python",
   "name": "python",
   "nbconvert_exporter": "python",
   "pygments_lexer": "ipython3",
   "version": "3.11.7"
  }
 },
 "nbformat": 4,
 "nbformat_minor": 5
}
