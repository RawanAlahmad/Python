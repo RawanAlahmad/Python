{
 "cells": [
  {
   "cell_type": "markdown",
   "metadata": {
    "slideshow": {
     "slide_type": "slide"
    }
   },
   "source": [
    "<div align=\"center\"><span style=\"font-family:Lucida Caligraphy;font-size:32px;color:darkblue\">Module 3 - Fondamentaux de python pour l'analyse de données </span></div><br><br>\n",
    "<div align=\"center\"><span style=\"font-family:Lucida Caligraphy;font-size:24px;color:#e60000\">Exercices d'entraînement</span></div><br><br>\n",
    "<hr>"
   ]
  },
  {
   "cell_type": "markdown",
   "metadata": {
    "editable": false,
    "nbgrader": {
     "checksum": "d2dfafb6df233d5f3df4a96f9ed16f07",
     "grade": false,
     "grade_id": "cell-2ac54a58651d08f2",
     "locked": true,
     "schema_version": 1,
     "solution": false
    }
   },
   "source": [
    "# Variables et types de base"
   ]
  },
  {
   "cell_type": "markdown",
   "metadata": {
    "editable": false,
    "nbgrader": {
     "checksum": "d2dfafb6df233d5f3df4a96f9ed16f07",
     "grade": false,
     "grade_id": "cell-2ac54a58651d08f2",
     "locked": true,
     "schema_version": 1,
     "solution": false
    }
   },
   "source": [
    "## Exercice\n",
    "\n",
    "Soit le texte suivant, assigné à la variable **TEXTE_WIKI** \n",
    "\n",
    "(Son nom est en majuscules pour signifier qu'on doit la considérer comme une constante)"
   ]
  },
  {
   "cell_type": "code",
   "execution_count": 21,
   "metadata": {
    "editable": false,
    "nbgrader": {
     "checksum": "cf46c0f4e7b938de97f53b3d7739bdeb",
     "grade": false,
     "grade_id": "cell-19d403b355122b0c",
     "locked": true,
     "schema_version": 1,
     "solution": false
    },
    "tags": []
   },
   "outputs": [],
   "source": [
    "TEXTE_WIKI = '''La 75e cérémonie des Golden Globes, organisée par la Hollywood Foreign Press Association, a eu lieu le 7 janvier 2018 et récompense les films et séries diffusés en 2017, ainsi que les professionnels s'étant distingués cette année-là.\n",
    "L'humoriste et animateur de télévision Seth Meyers présente pour la première fois la cérémonie qui est diffusée sur le réseau NBC. Il succède ainsi à Jimmy Fallon qui avait animé la cérémonie précédente.\n",
    "Les nominations sont annoncées le 11 décembre 2017 au Beverly Hilton Hotel par Sharon Stone, Alfre Woodard, Garrett Hedlund et Kristen Bell.\n",
    "Le Cecil B. DeMille Award est attribué à Oprah Winfrey pour récompenser l'ensemble de sa carrière.'''"
   ]
  },
  {
   "cell_type": "markdown",
   "metadata": {
    "ExecuteTime": {
     "end_time": "2018-10-02T18:27:29.884817Z",
     "start_time": "2018-10-02T18:27:29.760017Z"
    },
    "editable": false,
    "nbgrader": {
     "checksum": "b2aa4bd102b14fd84dbedbc12c04d8e9",
     "grade": false,
     "grade_id": "cell-6c3be00996d7ad80",
     "locked": true,
     "schema_version": 1,
     "solution": false
    }
   },
   "source": [
    "### Question\n",
    "\n",
    "Assigner le type de cette variable à la variable réponse.\n",
    "\n",
    "Ne pas répondre directement, utiliser une fonction de Python."
   ]
  },
  {
   "cell_type": "code",
   "execution_count": 24,
   "metadata": {
    "tags": []
   },
   "outputs": [],
   "source": [
    "reponse=type(TEXTE_WIKI)"
   ]
  },
  {
   "cell_type": "code",
   "execution_count": 26,
   "metadata": {
    "editable": false,
    "nbgrader": {
     "checksum": "ce7759bd732c861099b521f346f3c1fc",
     "grade": true,
     "grade_id": "cell-5aea1baf2b42c3c5",
     "locked": true,
     "points": 1,
     "schema_version": 1,
     "solution": false
    },
    "tags": []
   },
   "outputs": [
    {
     "data": {
      "text/plain": [
       "str"
      ]
     },
     "execution_count": 26,
     "metadata": {},
     "output_type": "execute_result"
    }
   ],
   "source": [
    "reponse"
   ]
  },
  {
   "cell_type": "markdown",
   "metadata": {
    "editable": false,
    "nbgrader": {
     "checksum": "f38bb6175bc30fd5e449d47a90ed0cbc",
     "grade": false,
     "grade_id": "cell-8f857b54fcaf3f5e",
     "locked": true,
     "schema_version": 1,
     "solution": false
    }
   },
   "source": [
    "### Question\n",
    "\n",
    "Assigner les 50 premiers caractères de cette chaine à la variable reponse"
   ]
  },
  {
   "cell_type": "code",
   "execution_count": 42,
   "metadata": {
    "nbgrader": {
     "checksum": "987e147239b17ec9b72d1d4b1666a93f",
     "grade": false,
     "grade_id": "cell-d83bd4641ace0db1",
     "locked": false,
     "schema_version": 1,
     "solution": true
    },
    "tags": []
   },
   "outputs": [
    {
     "name": "stdout",
     "output_type": "stream",
     "text": [
      "La 75e cérémonie des Golden Globes, organisée par \n"
     ]
    }
   ],
   "source": [
    "reponse = TEXTE_WIKI[:50]\n",
    "print (reponse)"
   ]
  },
  {
   "cell_type": "code",
   "execution_count": 44,
   "metadata": {
    "nbgrader": {
     "checksum": "987e147239b17ec9b72d1d4b1666a93f",
     "grade": false,
     "grade_id": "cell-d83bd4641ace0db1",
     "locked": false,
     "schema_version": 1,
     "solution": true
    },
    "tags": []
   },
   "outputs": [
    {
     "data": {
      "text/plain": [
       "'La 75e cérémonie des Golden Globes, organisée par '"
      ]
     },
     "execution_count": 44,
     "metadata": {},
     "output_type": "execute_result"
    }
   ],
   "source": [
    "reponse "
   ]
  },
  {
   "cell_type": "markdown",
   "metadata": {
    "editable": false,
    "nbgrader": {
     "checksum": "3b659eb894538f1b083e67733de96a30",
     "grade": false,
     "grade_id": "cell-f8cf6f2b1dd02d9e",
     "locked": true,
     "schema_version": 1,
     "solution": false
    }
   },
   "source": [
    "### Question\n",
    "\n",
    "Créer une variable **texte_minus** contenant le texte **TEXTE_WIKI** où toutes les lettres sont en minuscules."
   ]
  },
  {
   "cell_type": "code",
   "execution_count": 46,
   "metadata": {
    "nbgrader": {
     "checksum": "08ff4398d422d57fc00578c536bac8f6",
     "grade": false,
     "grade_id": "cell-e7baa278a274591e",
     "locked": false,
     "schema_version": 1,
     "solution": true
    },
    "tags": []
   },
   "outputs": [],
   "source": [
    "texte_minus = TEXTE_WIKI.lower()"
   ]
  },
  {
   "cell_type": "code",
   "execution_count": 48,
   "metadata": {
    "editable": false,
    "nbgrader": {
     "checksum": "b23aa2c0c8301bcb050898e6e93c20ac",
     "grade": true,
     "grade_id": "cell-c2dab2cf53087dee",
     "locked": true,
     "points": 1,
     "schema_version": 1,
     "solution": false
    },
    "tags": []
   },
   "outputs": [
    {
     "data": {
      "text/plain": [
       "\"la 75e cérémonie des golden globes, organisée par la hollywood foreign press association, a eu lieu le 7 janvier 2018 et récompense les films et séries diffusés en 2017, ainsi que les professionnels s'étant distingués cette année-là.\\nl'humoriste et animateur de télévision seth meyers présente pour la première fois la cérémonie qui est diffusée sur le réseau nbc. il succède ainsi à jimmy fallon qui avait animé la cérémonie précédente.\\nles nominations sont annoncées le 11 décembre 2017 au beverly hilton hotel par sharon stone, alfre woodard, garrett hedlund et kristen bell.\\nle cecil b. demille award est attribué à oprah winfrey pour récompenser l'ensemble de sa carrière.\""
      ]
     },
     "execution_count": 48,
     "metadata": {},
     "output_type": "execute_result"
    }
   ],
   "source": [
    "texte_minus"
   ]
  },
  {
   "cell_type": "markdown",
   "metadata": {
    "editable": false,
    "nbgrader": {
     "checksum": "8b2b2dd8e8a85b1c43eac6d8d8350496",
     "grade": false,
     "grade_id": "cell-215f96cfd4576ebe",
     "locked": true,
     "schema_version": 1,
     "solution": false
    }
   },
   "source": [
    "### Question\n",
    "\n",
    "Définir **texte_clean** à partir de **texte_minus** de manière à ce qu'il contienne l'ensemble du texte **texte_minus** mais sans points ni virgules"
   ]
  },
  {
   "cell_type": "code",
   "execution_count": 50,
   "metadata": {
    "nbgrader": {
     "checksum": "2226d84a2a56d93bdc8a17c935024468",
     "grade": false,
     "grade_id": "cell-82c278629c8c906f",
     "locked": false,
     "schema_version": 1,
     "solution": true
    },
    "tags": []
   },
   "outputs": [],
   "source": [
    "texte_minus = TEXTE_WIKI.lower()\n",
    "texte_clean = texte_minus.replace('.', '').replace(',', '')"
   ]
  },
  {
   "cell_type": "code",
   "execution_count": 52,
   "metadata": {
    "editable": false,
    "nbgrader": {
     "checksum": "bf10600c257322d5abcf0961489dbbaf",
     "grade": true,
     "grade_id": "cell-24c893d2db667956",
     "locked": true,
     "points": 1,
     "schema_version": 1,
     "solution": false
    },
    "tags": []
   },
   "outputs": [
    {
     "data": {
      "text/plain": [
       "\"la 75e cérémonie des golden globes organisée par la hollywood foreign press association a eu lieu le 7 janvier 2018 et récompense les films et séries diffusés en 2017 ainsi que les professionnels s'étant distingués cette année-là\\nl'humoriste et animateur de télévision seth meyers présente pour la première fois la cérémonie qui est diffusée sur le réseau nbc il succède ainsi à jimmy fallon qui avait animé la cérémonie précédente\\nles nominations sont annoncées le 11 décembre 2017 au beverly hilton hotel par sharon stone alfre woodard garrett hedlund et kristen bell\\nle cecil b demille award est attribué à oprah winfrey pour récompenser l'ensemble de sa carrière\""
      ]
     },
     "execution_count": 52,
     "metadata": {},
     "output_type": "execute_result"
    }
   ],
   "source": [
    "texte_clean"
   ]
  },
  {
   "cell_type": "markdown",
   "metadata": {
    "editable": false,
    "nbgrader": {
     "checksum": "fc78accc302eb73288b4760e068d4639",
     "grade": false,
     "grade_id": "cell-f9f3c7844f1b8a77",
     "locked": true,
     "schema_version": 1,
     "solution": false
    }
   },
   "source": [
    "### Question\n",
    "\n",
    "Définir **texte_decoup** de manière à ce qu'elle contienne l'ensemble des \"mots\" (ou des nombres) de **texte_clean** découpé sur la base des espaces."
   ]
  },
  {
   "cell_type": "code",
   "execution_count": null,
   "metadata": {},
   "outputs": [],
   "source": []
  },
  {
   "cell_type": "code",
   "execution_count": 60,
   "metadata": {
    "nbgrader": {
     "checksum": "3b2c8b63aa6c7a7e7532054860976abd",
     "grade": false,
     "grade_id": "cell-3b9879512a4afe8c",
     "locked": false,
     "schema_version": 1,
     "solution": true
    },
    "tags": []
   },
   "outputs": [
    {
     "data": {
      "text/plain": [
       "['la',\n",
       " '75e',\n",
       " 'cérémonie',\n",
       " 'des',\n",
       " 'golden',\n",
       " 'globes',\n",
       " 'organisée',\n",
       " 'par',\n",
       " 'la',\n",
       " 'hollywood',\n",
       " 'foreign',\n",
       " 'press',\n",
       " 'association',\n",
       " 'a',\n",
       " 'eu',\n",
       " 'lieu',\n",
       " 'le',\n",
       " '7',\n",
       " 'janvier',\n",
       " '2018',\n",
       " 'et',\n",
       " 'récompense',\n",
       " 'les',\n",
       " 'films',\n",
       " 'et',\n",
       " 'séries',\n",
       " 'diffusés',\n",
       " 'en',\n",
       " '2017',\n",
       " 'ainsi',\n",
       " 'que',\n",
       " 'les',\n",
       " 'professionnels',\n",
       " 'sétant',\n",
       " 'distingués',\n",
       " 'cette',\n",
       " 'année',\n",
       " 'là',\n",
       " 'lhumoriste',\n",
       " 'et',\n",
       " 'animateur',\n",
       " 'de',\n",
       " 'télévision',\n",
       " 'seth',\n",
       " 'meyers',\n",
       " 'présente',\n",
       " 'pour',\n",
       " 'la',\n",
       " 'première',\n",
       " 'fois',\n",
       " 'la',\n",
       " 'cérémonie',\n",
       " 'qui',\n",
       " 'est',\n",
       " 'diffusée',\n",
       " 'sur',\n",
       " 'le',\n",
       " 'réseau',\n",
       " 'nbc',\n",
       " 'il',\n",
       " 'succède',\n",
       " 'ainsi',\n",
       " 'à',\n",
       " 'jimmy',\n",
       " 'fallon',\n",
       " 'qui',\n",
       " 'avait',\n",
       " 'animé',\n",
       " 'la',\n",
       " 'cérémonie',\n",
       " 'précédente',\n",
       " 'les',\n",
       " 'nominations',\n",
       " 'sont',\n",
       " 'annoncées',\n",
       " 'le',\n",
       " '11',\n",
       " 'décembre',\n",
       " '2017',\n",
       " 'au',\n",
       " 'beverly',\n",
       " 'hilton',\n",
       " 'hotel',\n",
       " 'par',\n",
       " 'sharon',\n",
       " 'stone',\n",
       " 'alfre',\n",
       " 'woodard',\n",
       " 'garrett',\n",
       " 'hedlund',\n",
       " 'et',\n",
       " 'kristen',\n",
       " 'bell',\n",
       " 'le',\n",
       " 'cecil',\n",
       " 'b',\n",
       " 'demille',\n",
       " 'award',\n",
       " 'est',\n",
       " 'attribué',\n",
       " 'à',\n",
       " 'oprah',\n",
       " 'winfrey',\n",
       " 'pour',\n",
       " 'récompenser',\n",
       " 'lensemble',\n",
       " 'de',\n",
       " 'sa',\n",
       " 'carrière']"
      ]
     },
     "execution_count": 60,
     "metadata": {},
     "output_type": "execute_result"
    }
   ],
   "source": [
    "texte_minus = TEXTE_WIKI.lower()\n",
    "texte_clean = texte_minus.replace('.', '').replace(',', '').replace(\"'\", '').replace('’', '').replace('-', ' ')\n",
    "texte_decoup = texte_clean.split()\n",
    "texte_decoup"
   ]
  },
  {
   "cell_type": "markdown",
   "metadata": {
    "editable": false,
    "nbgrader": {
     "checksum": "e25742bf078a4014607eef05cf779538",
     "grade": false,
     "grade_id": "cell-3242544bf8fd2c07",
     "locked": true,
     "schema_version": 1,
     "solution": false
    }
   },
   "source": [
    "### Question\n",
    "\n",
    "Définir **mots_uniques** comme étant l'**ensemble des mots uniques** de ce texte (retrait des doublons)"
   ]
  },
  {
   "cell_type": "code",
   "execution_count": 62,
   "metadata": {
    "nbgrader": {
     "checksum": "90ffdaa4853e39a3d736ac1eb48653dc",
     "grade": false,
     "grade_id": "cell-fb358abf41f46080",
     "locked": false,
     "schema_version": 1,
     "solution": true
    },
    "tags": []
   },
   "outputs": [
    {
     "data": {
      "text/plain": [
       "{'11',\n",
       " '2017',\n",
       " '2018',\n",
       " '7',\n",
       " '75e',\n",
       " 'a',\n",
       " 'ainsi',\n",
       " 'alfre',\n",
       " 'animateur',\n",
       " 'animé',\n",
       " 'annoncées',\n",
       " 'année',\n",
       " 'association',\n",
       " 'attribué',\n",
       " 'au',\n",
       " 'avait',\n",
       " 'award',\n",
       " 'b',\n",
       " 'bell',\n",
       " 'beverly',\n",
       " 'carrière',\n",
       " 'cecil',\n",
       " 'cette',\n",
       " 'cérémonie',\n",
       " 'de',\n",
       " 'demille',\n",
       " 'des',\n",
       " 'diffusée',\n",
       " 'diffusés',\n",
       " 'distingués',\n",
       " 'décembre',\n",
       " 'en',\n",
       " 'est',\n",
       " 'et',\n",
       " 'eu',\n",
       " 'fallon',\n",
       " 'films',\n",
       " 'fois',\n",
       " 'foreign',\n",
       " 'garrett',\n",
       " 'globes',\n",
       " 'golden',\n",
       " 'hedlund',\n",
       " 'hilton',\n",
       " 'hollywood',\n",
       " 'hotel',\n",
       " 'il',\n",
       " 'janvier',\n",
       " 'jimmy',\n",
       " 'kristen',\n",
       " 'la',\n",
       " 'le',\n",
       " 'lensemble',\n",
       " 'les',\n",
       " 'lhumoriste',\n",
       " 'lieu',\n",
       " 'là',\n",
       " 'meyers',\n",
       " 'nbc',\n",
       " 'nominations',\n",
       " 'oprah',\n",
       " 'organisée',\n",
       " 'par',\n",
       " 'pour',\n",
       " 'première',\n",
       " 'press',\n",
       " 'professionnels',\n",
       " 'précédente',\n",
       " 'présente',\n",
       " 'que',\n",
       " 'qui',\n",
       " 'récompense',\n",
       " 'récompenser',\n",
       " 'réseau',\n",
       " 'sa',\n",
       " 'seth',\n",
       " 'sharon',\n",
       " 'sont',\n",
       " 'stone',\n",
       " 'succède',\n",
       " 'sur',\n",
       " 'séries',\n",
       " 'sétant',\n",
       " 'télévision',\n",
       " 'winfrey',\n",
       " 'woodard',\n",
       " 'à'}"
      ]
     },
     "execution_count": 62,
     "metadata": {},
     "output_type": "execute_result"
    }
   ],
   "source": [
    "mots_uniques= set(texte_decoup)\n",
    "mots_uniques"
   ]
  },
  {
   "cell_type": "markdown",
   "metadata": {
    "editable": false,
    "nbgrader": {
     "checksum": "3f0c19b49ed456bbce6b555264f53f0f",
     "grade": false,
     "grade_id": "cell-b27f4b3791820c58",
     "locked": true,
     "schema_version": 1,
     "solution": false
    }
   },
   "source": [
    "### Question\n",
    "\n",
    "Assigner le **nombre de mots uniques** de ce texte à reponse"
   ]
  },
  {
   "cell_type": "code",
   "execution_count": 65,
   "metadata": {
    "nbgrader": {
     "checksum": "eeed18096e99af8a8c915e50ba26a82c",
     "grade": false,
     "grade_id": "cell-0abb8d2ee718c0e5",
     "locked": false,
     "schema_version": 1,
     "solution": true
    },
    "tags": []
   },
   "outputs": [],
   "source": [
    "réponse = len(mots_uniques)"
   ]
  },
  {
   "cell_type": "code",
   "execution_count": 70,
   "metadata": {
    "nbgrader": {
     "checksum": "eeed18096e99af8a8c915e50ba26a82c",
     "grade": false,
     "grade_id": "cell-0abb8d2ee718c0e5",
     "locked": false,
     "schema_version": 1,
     "solution": true
    },
    "tags": []
   },
   "outputs": [
    {
     "data": {
      "text/plain": [
       "87"
      ]
     },
     "execution_count": 70,
     "metadata": {},
     "output_type": "execute_result"
    }
   ],
   "source": [
    "réponse "
   ]
  },
  {
   "cell_type": "markdown",
   "metadata": {
    "editable": false,
    "nbgrader": {
     "checksum": "aa228a22d496fb9578ad89931dd0457a",
     "grade": false,
     "grade_id": "cell-c6ad78e313f65189",
     "locked": true,
     "schema_version": 1,
     "solution": false
    }
   },
   "source": [
    "### Question\n",
    "\n",
    "Assigner la proportion de mots redondants à **reponse**.\n",
    "\n",
    "Le résultat doit être un nombre à virgule entre 0.0 et 100.0"
   ]
  },
  {
   "cell_type": "code",
   "execution_count": 79,
   "metadata": {
    "tags": []
   },
   "outputs": [
    {
     "data": {
      "text/plain": [
       "20.18348623853211"
      ]
     },
     "execution_count": 79,
     "metadata": {},
     "output_type": "execute_result"
    }
   ],
   "source": [
    "total_mots = len(texte_decoup)\n",
    "mots_uniques = set(texte_decoup)\n",
    "nombre_mots_uniques = len(mots_uniques)\n",
    "\n",
    "proportion_redondants = ((total_mots - nombre_mots_uniques) / total_mots) * 100\n",
    "\n",
    "réponse = proportion_redondants\n",
    "\n",
    "réponse"
   ]
  },
  {
   "cell_type": "markdown",
   "metadata": {
    "editable": false,
    "nbgrader": {
     "checksum": "ec89883450889715a47e2cdc9e8e107c",
     "grade": false,
     "grade_id": "cell-348f79c769f053b9",
     "locked": true,
     "schema_version": 1,
     "solution": false
    }
   },
   "source": [
    "### Question\n",
    "\n",
    "Définir **liste_lignes** comme étant une liste contenant les différentes lignes du texte d'origine."
   ]
  },
  {
   "cell_type": "code",
   "execution_count": 95,
   "metadata": {
    "nbgrader": {
     "checksum": "0ec60d90a37b03f1c17a72a031a5974f",
     "grade": false,
     "grade_id": "cell-1473d82de6965f47",
     "locked": false,
     "schema_version": 1,
     "solution": true
    },
    "tags": []
   },
   "outputs": [],
   "source": [
    "liste_lignes = TEXTE_WIKI.splitlines()"
   ]
  },
  {
   "cell_type": "code",
   "execution_count": 97,
   "metadata": {
    "editable": false,
    "nbgrader": {
     "checksum": "d89e762b2bb4df472ec3c61993e5f8e0",
     "grade": true,
     "grade_id": "cell-2dcc70b4e04bcfdf",
     "locked": true,
     "points": 1,
     "schema_version": 1,
     "solution": false
    },
    "tags": []
   },
   "outputs": [
    {
     "data": {
      "text/plain": [
       "[\"La 75e cérémonie des Golden Globes, organisée par la Hollywood Foreign Press Association, a eu lieu le 7 janvier 2018 et récompense les films et séries diffusés en 2017, ainsi que les professionnels s'étant distingués cette année-là.\",\n",
       " \"L'humoriste et animateur de télévision Seth Meyers présente pour la première fois la cérémonie qui est diffusée sur le réseau NBC. Il succède ainsi à Jimmy Fallon qui avait animé la cérémonie précédente.\",\n",
       " 'Les nominations sont annoncées le 11 décembre 2017 au Beverly Hilton Hotel par Sharon Stone, Alfre Woodard, Garrett Hedlund et Kristen Bell.',\n",
       " \"Le Cecil B. DeMille Award est attribué à Oprah Winfrey pour récompenser l'ensemble de sa carrière.\"]"
      ]
     },
     "execution_count": 97,
     "metadata": {},
     "output_type": "execute_result"
    }
   ],
   "source": [
    "liste_lignes"
   ]
  },
  {
   "cell_type": "markdown",
   "metadata": {
    "editable": false,
    "nbgrader": {
     "checksum": "96b172d13b86344d97ad0c44098ec876",
     "grade": false,
     "grade_id": "cell-ea0472f6d97eb101",
     "locked": true,
     "schema_version": 1,
     "solution": false
    }
   },
   "source": [
    "### Question\n",
    "\n",
    "Quel est le nombre de caractères de la dernière ligne"
   ]
  },
  {
   "cell_type": "code",
   "execution_count": 100,
   "metadata": {
    "tags": []
   },
   "outputs": [
    {
     "data": {
      "text/plain": [
       "98"
      ]
     },
     "execution_count": 100,
     "metadata": {},
     "output_type": "execute_result"
    }
   ],
   "source": [
    "derniere_ligne = liste_lignes[-1]\n",
    "\n",
    "nombre_caracteres_derniere_ligne = len(derniere_ligne)\n",
    "\n",
    "nombre_caracteres_derniere_ligne"
   ]
  },
  {
   "cell_type": "markdown",
   "metadata": {
    "editable": false,
    "nbgrader": {
     "checksum": "3602a73b5bb05347b4e5e070f247ff33",
     "grade": false,
     "grade_id": "cell-6916e6565c9d0123",
     "locked": true,
     "schema_version": 1,
     "solution": false
    }
   },
   "source": [
    "## Exercice\n",
    "\n",
    "Soit la liste suivante, assignée à la variable **ORIG_LISTE**"
   ]
  },
  {
   "cell_type": "code",
   "execution_count": 106,
   "metadata": {
    "editable": false,
    "nbgrader": {
     "checksum": "a60e4c68b45f3f0f6b2288a396f5d6b8",
     "grade": false,
     "grade_id": "cell-b1f8653da84f8e57",
     "locked": true,
     "schema_version": 1,
     "solution": false
    },
    "tags": []
   },
   "outputs": [],
   "source": [
    "ORIG_LISTE = [12, 28, 42, 72, 16, 56, 25]"
   ]
  },
  {
   "cell_type": "markdown",
   "metadata": {
    "editable": false,
    "nbgrader": {
     "checksum": "a44f993ab0542ece0efda2c1a1280328",
     "grade": false,
     "grade_id": "cell-3fdf50ada982b8aa",
     "locked": true,
     "schema_version": 1,
     "solution": false
    }
   },
   "source": [
    "### Question\n",
    "\n",
    "Vérifier que le type de cette variable est bien **list**. \n",
    "\n",
    "Ne pas répondre directement, faire un test en Python. Le résultat doit être un booléen."
   ]
  },
  {
   "cell_type": "code",
   "execution_count": 109,
   "metadata": {
    "nbgrader": {
     "checksum": "95741d3a499b0f82644ff226d41dab79",
     "grade": false,
     "grade_id": "cell-55c43e9f8bd95211",
     "locked": false,
     "schema_version": 1,
     "solution": true
    },
    "tags": []
   },
   "outputs": [],
   "source": [
    "est_liste = isinstance(ORIG_LISTE, list)"
   ]
  },
  {
   "cell_type": "code",
   "execution_count": 111,
   "metadata": {
    "tags": []
   },
   "outputs": [
    {
     "data": {
      "text/plain": [
       "True"
      ]
     },
     "execution_count": 111,
     "metadata": {},
     "output_type": "execute_result"
    }
   ],
   "source": [
    "est_liste\n"
   ]
  },
  {
   "cell_type": "markdown",
   "metadata": {
    "editable": false,
    "nbgrader": {
     "checksum": "fa374c6f626c725941e49b976e3c21ed",
     "grade": false,
     "grade_id": "cell-67137be74d769720",
     "locked": true,
     "schema_version": 1,
     "solution": false
    }
   },
   "source": [
    "### Question\n",
    "\n",
    "Nous souhaitons créer une nouvelle liste, **ma_liste** à partir de **ORIG_LISTE**, mais nous voulons que les modifications qui seront appliquées sur ma_liste ne soient pas répercutées sur ORIG_LISTE.\n",
    "\n",
    "Définir la variable **ma_liste** à partir d'**ORIG_LISTE**"
   ]
  },
  {
   "cell_type": "code",
   "execution_count": 113,
   "metadata": {
    "nbgrader": {
     "checksum": "98899deecca61236a08e80bff608901b",
     "grade": false,
     "grade_id": "cell-0b139796321c3c09",
     "locked": false,
     "schema_version": 1,
     "solution": true
    },
    "tags": []
   },
   "outputs": [
    {
     "data": {
      "text/plain": [
       "[12, 28, 42, 72, 16, 56, 25]"
      ]
     },
     "execution_count": 113,
     "metadata": {},
     "output_type": "execute_result"
    }
   ],
   "source": [
    "ma_liste = ORIG_LISTE.copy()\n",
    "\n",
    "\n",
    "\n",
    "\n",
    "ma_liste"
   ]
  },
  {
   "cell_type": "markdown",
   "metadata": {
    "editable": false,
    "nbgrader": {
     "checksum": "95b20eb084bd7fbea27639a4cf1ce1aa",
     "grade": false,
     "grade_id": "cell-b8b15812ecf8e88c",
     "locked": true,
     "schema_version": 1,
     "solution": false
    }
   },
   "source": [
    "## Question\n",
    "\n",
    "Expliquer ci-dessous en une phrase la réponse fournie à la question précédente :"
   ]
  },
  {
   "cell_type": "markdown",
   "metadata": {
    "nbgrader": {
     "checksum": "7a1898965fa3aef462d68c3603b67ffd",
     "grade": true,
     "grade_id": "cell-6716f92548af27d4",
     "locked": false,
     "points": 1,
     "schema_version": 1,
     "solution": true
    }
   },
   "source": [
    "La variable ma_liste a été créée en copiant ORIG_LISTE avec la méthode copy(), ce qui garantit que les modifications effectuées sur ma_liste n'affecteront pas ORIG_LISTE."
   ]
  },
  {
   "cell_type": "markdown",
   "metadata": {
    "editable": false,
    "nbgrader": {
     "checksum": "fed5db1e4a4d2c3d5c5256535d3f22db",
     "grade": false,
     "grade_id": "cell-6ed66123228040a4",
     "locked": true,
     "schema_version": 1,
     "solution": false
    }
   },
   "source": [
    "### Question\n",
    "\n",
    "Ajouter l'élément **58** à la fin de cette liste."
   ]
  },
  {
   "cell_type": "code",
   "execution_count": 116,
   "metadata": {
    "nbgrader": {
     "checksum": "89d9a421e122442ff884c939ce8a7f17",
     "grade": false,
     "grade_id": "cell-706af18d40f61864",
     "locked": false,
     "schema_version": 1,
     "solution": true
    },
    "tags": []
   },
   "outputs": [],
   "source": [
    "ma_liste.append(58)\n",
    "\n"
   ]
  },
  {
   "cell_type": "code",
   "execution_count": 118,
   "metadata": {
    "editable": false,
    "nbgrader": {
     "checksum": "2b104863eb39e01b611026fec64af563",
     "grade": true,
     "grade_id": "cell-08da665f457eb5a9",
     "locked": true,
     "points": 1,
     "schema_version": 1,
     "solution": false
    },
    "tags": []
   },
   "outputs": [
    {
     "data": {
      "text/plain": [
       "[12, 28, 42, 72, 16, 56, 25, 58]"
      ]
     },
     "execution_count": 118,
     "metadata": {},
     "output_type": "execute_result"
    }
   ],
   "source": [
    "ma_liste"
   ]
  },
  {
   "cell_type": "markdown",
   "metadata": {
    "editable": false,
    "nbgrader": {
     "checksum": "22149a4781a0b5d4cef30fb7ee476cdf",
     "grade": false,
     "grade_id": "cell-7664981719c66c12",
     "locked": true,
     "schema_version": 1,
     "solution": false
    }
   },
   "source": [
    "### Question\n",
    "\n",
    "Insérer l'entier **128** en deuxième position de cette liste. Attention: position, pas indice"
   ]
  },
  {
   "cell_type": "code",
   "execution_count": 120,
   "metadata": {
    "tags": []
   },
   "outputs": [],
   "source": [
    "ma_liste.insert(1, 128)\n",
    "\n"
   ]
  },
  {
   "cell_type": "code",
   "execution_count": 122,
   "metadata": {
    "editable": false,
    "nbgrader": {
     "checksum": "c847433a0fddb9e3e237408a7aa84961",
     "grade": true,
     "grade_id": "cell-83acb49d894665b8",
     "locked": true,
     "points": 1,
     "schema_version": 1,
     "solution": false
    },
    "tags": []
   },
   "outputs": [
    {
     "data": {
      "text/plain": [
       "[12, 128, 28, 42, 72, 16, 56, 25, 58]"
      ]
     },
     "execution_count": 122,
     "metadata": {},
     "output_type": "execute_result"
    }
   ],
   "source": [
    "ma_liste"
   ]
  },
  {
   "cell_type": "markdown",
   "metadata": {
    "editable": false,
    "nbgrader": {
     "checksum": "337635ff8f8a24dc8a1fe8982e4fb841",
     "grade": false,
     "grade_id": "cell-c772ac82b2098a73",
     "locked": true,
     "schema_version": 1,
     "solution": false
    }
   },
   "source": [
    "### Question\n",
    "\n",
    "Faire en sorte que **ma_liste** devienne une liste triée par ordre croissant"
   ]
  },
  {
   "cell_type": "code",
   "execution_count": 124,
   "metadata": {
    "nbgrader": {
     "checksum": "e233f485aec69dc0cc8a9ef18ca06faa",
     "grade": false,
     "grade_id": "cell-37d0a56f421f7fe0",
     "locked": false,
     "schema_version": 1,
     "solution": true
    },
    "tags": []
   },
   "outputs": [],
   "source": [
    "# Ecrivez votre code ci-dessous\n",
    "ma_liste.sort()\n",
    "\n"
   ]
  },
  {
   "cell_type": "code",
   "execution_count": 126,
   "metadata": {
    "editable": false,
    "nbgrader": {
     "checksum": "4c6bd8916e8679e6d22b20b3dda0b8cd",
     "grade": true,
     "grade_id": "cell-aa9830494788f3ba",
     "locked": true,
     "points": 1,
     "schema_version": 1,
     "solution": false
    },
    "tags": []
   },
   "outputs": [
    {
     "data": {
      "text/plain": [
       "[12, 16, 25, 28, 42, 56, 58, 72, 128]"
      ]
     },
     "execution_count": 126,
     "metadata": {},
     "output_type": "execute_result"
    }
   ],
   "source": [
    "ma_liste"
   ]
  },
  {
   "cell_type": "markdown",
   "metadata": {
    "editable": false,
    "nbgrader": {
     "checksum": "7915d1ccca29f26bb67a08e97937fc40",
     "grade": false,
     "grade_id": "cell-b861297b05258611",
     "locked": true,
     "schema_version": 1,
     "solution": false
    }
   },
   "source": [
    "### Question\n",
    "\n",
    "Quel est l'indice de l'élément contenant la valeur **56** ?"
   ]
  },
  {
   "cell_type": "code",
   "execution_count": 132,
   "metadata": {
    "nbgrader": {
     "checksum": "72b8c99f1e1eadb6184fe2900b256f6a",
     "grade": false,
     "grade_id": "cell-5bc709d1a0273100",
     "locked": false,
     "schema_version": 1,
     "solution": true
    },
    "tags": []
   },
   "outputs": [
    {
     "data": {
      "text/plain": [
       "5"
      ]
     },
     "execution_count": 132,
     "metadata": {},
     "output_type": "execute_result"
    }
   ],
   "source": [
    "# Ecrivez votre code ci-dessous\n",
    "indice_56 = ma_liste.index(56)\n",
    "indice_56\n"
   ]
  },
  {
   "cell_type": "markdown",
   "metadata": {
    "editable": false,
    "nbgrader": {
     "checksum": "22a2f1eeb7802838c76b2f26cb9cd561",
     "grade": false,
     "grade_id": "cell-5ca65a5c62d9139f",
     "locked": true,
     "schema_version": 1,
     "solution": false
    }
   },
   "source": [
    "### Question\n",
    "\n",
    "Assigner les trois derniers éléments de cette liste à reponse"
   ]
  },
  {
   "cell_type": "code",
   "execution_count": 138,
   "metadata": {
    "nbgrader": {
     "checksum": "2120399f924ec3bfb23364228ecd49e9",
     "grade": false,
     "grade_id": "cell-821dccfe83df8744",
     "locked": false,
     "schema_version": 1,
     "solution": true
    },
    "tags": []
   },
   "outputs": [],
   "source": [
    "reponse = ma_liste[-3:]"
   ]
  },
  {
   "cell_type": "code",
   "execution_count": 140,
   "metadata": {
    "editable": false,
    "nbgrader": {
     "checksum": "ef59cb12ac721acaba70ecf03ca9d62b",
     "grade": true,
     "grade_id": "cell-1f2d91d980266a9b",
     "locked": true,
     "points": 1,
     "schema_version": 1,
     "solution": false
    },
    "tags": []
   },
   "outputs": [
    {
     "data": {
      "text/plain": [
       "[58, 72, 128]"
      ]
     },
     "execution_count": 140,
     "metadata": {},
     "output_type": "execute_result"
    }
   ],
   "source": [
    "reponse"
   ]
  },
  {
   "cell_type": "markdown",
   "metadata": {
    "editable": false,
    "nbgrader": {
     "checksum": "19c92ec931494eb794cb0cec4a6519e0",
     "grade": false,
     "grade_id": "cell-c5031f6021dd1f31",
     "locked": true,
     "schema_version": 1,
     "solution": false
    }
   },
   "source": [
    "### Question\n",
    "\n",
    "Assigner la sous-liste contenant le deuxième, le troisième et le quatrième élément à reponse.\n",
    "\n",
    "Le résultat doit être une liste"
   ]
  },
  {
   "cell_type": "code",
   "execution_count": 142,
   "metadata": {
    "nbgrader": {
     "checksum": "03837fefd01b546017995e58e3787ed1",
     "grade": false,
     "grade_id": "cell-6981aead4ac32bf9",
     "locked": false,
     "schema_version": 1,
     "solution": true
    },
    "tags": []
   },
   "outputs": [],
   "source": [
    "reponse = ma_liste[1:4]"
   ]
  },
  {
   "cell_type": "code",
   "execution_count": 144,
   "metadata": {
    "editable": false,
    "nbgrader": {
     "checksum": "d6782496124bdd641361910625674100",
     "grade": true,
     "grade_id": "cell-71470fb3af655fa4",
     "locked": true,
     "points": 1,
     "schema_version": 1,
     "solution": false
    },
    "tags": []
   },
   "outputs": [
    {
     "data": {
      "text/plain": [
       "[16, 25, 28]"
      ]
     },
     "execution_count": 144,
     "metadata": {},
     "output_type": "execute_result"
    }
   ],
   "source": [
    "reponse"
   ]
  },
  {
   "cell_type": "markdown",
   "metadata": {
    "editable": false,
    "nbgrader": {
     "checksum": "25af8ff5aeffbf8a6037cd9a9768b2a3",
     "grade": false,
     "grade_id": "cell-bcd127fe2d16910b",
     "locked": true,
     "schema_version": 1,
     "solution": false
    }
   },
   "source": [
    "### Question\n",
    "\n",
    "Quelle est la taille de cette liste ?\n",
    "\n",
    "Utiliser une fonction pour répondre"
   ]
  },
  {
   "cell_type": "code",
   "execution_count": 146,
   "metadata": {
    "nbgrader": {
     "checksum": "698831fe1cecf3aadc35a46ac8b5e42d",
     "grade": false,
     "grade_id": "cell-8514ff719a838258",
     "locked": false,
     "schema_version": 1,
     "solution": true
    },
    "tags": []
   },
   "outputs": [
    {
     "data": {
      "text/plain": [
       "3"
      ]
     },
     "execution_count": 146,
     "metadata": {},
     "output_type": "execute_result"
    }
   ],
   "source": [
    "\n",
    "taille_reponse = len(reponse)\n",
    "\n",
    "taille_reponse\n",
    "\n"
   ]
  },
  {
   "cell_type": "markdown",
   "metadata": {
    "editable": false,
    "nbgrader": {
     "checksum": "66ef20333758f558881c6a0136a5fa4b",
     "grade": false,
     "grade_id": "cell-465c6ec16fad65cd",
     "locked": true,
     "schema_version": 1,
     "solution": false
    }
   },
   "source": [
    "# Structures programmatiques"
   ]
  },
  {
   "cell_type": "markdown",
   "metadata": {
    "editable": false,
    "nbgrader": {
     "checksum": "66ef20333758f558881c6a0136a5fa4b",
     "grade": false,
     "grade_id": "cell-465c6ec16fad65cd",
     "locked": true,
     "schema_version": 1,
     "solution": false
    }
   },
   "source": [
    "## Exercice\n",
    "\n",
    "Voici une liste des populations régionales en France, en milliers d'habitants, assignée à la variable POP_REG :"
   ]
  },
  {
   "cell_type": "code",
   "execution_count": 149,
   "metadata": {
    "editable": false,
    "nbgrader": {
     "checksum": "9fc9fa24bd45af17fbcb955fb342644b",
     "grade": false,
     "grade_id": "cell-fbc0688513639816",
     "locked": true,
     "schema_version": 1,
     "solution": false
    },
    "tags": []
   },
   "outputs": [],
   "source": [
    "POP_REG = [7940, 2820, 3310, 2587, 330, 5558, 6030, 12142, 3343, 5943, 5830, 3743, 5024]"
   ]
  },
  {
   "cell_type": "markdown",
   "metadata": {
    "editable": false,
    "nbgrader": {
     "checksum": "c25586723d08f84a6aae0d54aa44b47f",
     "grade": false,
     "grade_id": "cell-6768e286f9c1d5af",
     "locked": true,
     "schema_version": 1,
     "solution": false
    }
   },
   "source": [
    "### Question\n",
    "\n",
    "Définir une liste **cate_reg**, de même taille que **POP_REG**, et qui contient des élements de type **str** correspondant aux catégories de région de **POP_REG**, définies selon la règle suivante :\n",
    "- **Bas** lorsqu'elle est strictement inférieur à 3500 milliers d'habitants\n",
    "- **Moyen** lorsqu'elle est entre 3500 (inclus) et 6000 milliers (exclus) d'habitants\n",
    "- **Haut** lorsqu'elle est supérieur ou égale à 6000 milliers d'habitants\n",
    "Comme POP_REG, le cate_reg doit être une liste.\n",
    "\n",
    "Il faut utiliser une boucle"
   ]
  },
  {
   "cell_type": "code",
   "execution_count": 152,
   "metadata": {
    "nbgrader": {
     "checksum": "23100a0f50debee797c67aca9c92631a",
     "grade": false,
     "grade_id": "cell-0a203fb59390344f",
     "locked": false,
     "schema_version": 1,
     "solution": true
    },
    "tags": []
   },
   "outputs": [
    {
     "name": "stdout",
     "output_type": "stream",
     "text": [
      "['Haut', 'Bas', 'Bas', 'Bas', 'Bas', 'Moyen', 'Haut', 'Haut', 'Bas', 'Moyen', 'Moyen', 'Moyen', 'Moyen']\n"
     ]
    }
   ],
   "source": [
    "\n",
    "\n",
    "cate_reg = []\n",
    "\n",
    "for population in POP_REG:\n",
    "    if population < 3500:\n",
    "        cate_reg.append('Bas')\n",
    "    elif 3500 <= population < 6000:\n",
    "        cate_reg.append('Moyen')\n",
    "    else:\n",
    "        cate_reg.append('Haut')\n",
    "\n",
    "print(cate_reg)\n",
    "\n",
    "\n",
    "\n"
   ]
  },
  {
   "cell_type": "markdown",
   "metadata": {
    "editable": false,
    "nbgrader": {
     "checksum": "31235841057ad88f1201c4ef981db1cb",
     "grade": false,
     "grade_id": "cell-18266e7ebe36f95d",
     "locked": true,
     "schema_version": 1,
     "solution": false
    }
   },
   "source": [
    "### Question\n",
    "\n",
    "Définir un dictionnaire **reg_dict** qui associe à chaque catégorie de région (Bas, Moyen, Haut) un entier représentant le nombre de régions de cette catégorie en utilisant une boucle"
   ]
  },
  {
   "cell_type": "code",
   "execution_count": 154,
   "metadata": {
    "nbgrader": {
     "checksum": "151a5b400d6d45432bc4e71fe311ed3c",
     "grade": false,
     "grade_id": "cell-27e83def76a41b7e",
     "locked": false,
     "schema_version": 1,
     "solution": true
    },
    "tags": []
   },
   "outputs": [],
   "source": [
    "reg_dict = {'Bas': 0, 'Moyen': 0, 'Haut': 0}\n",
    "\n",
    "for population in POP_REG:\n",
    "    if population < 3500:\n",
    "        reg_dict['Bas'] += 1\n",
    "    elif 3500 <= population < 6000:\n",
    "        reg_dict['Moyen'] += 1\n",
    "    else:\n",
    "        reg_dict['Haut'] += 1\n",
    "\n"
   ]
  },
  {
   "cell_type": "code",
   "execution_count": 156,
   "metadata": {
    "tags": []
   },
   "outputs": [
    {
     "data": {
      "text/plain": [
       "{'Bas': 5, 'Moyen': 5, 'Haut': 3}"
      ]
     },
     "execution_count": 156,
     "metadata": {},
     "output_type": "execute_result"
    }
   ],
   "source": [
    "reg_dict"
   ]
  },
  {
   "cell_type": "markdown",
   "metadata": {
    "editable": false,
    "nbgrader": {
     "checksum": "24cb454562c60780749b09372b41ac58",
     "grade": false,
     "grade_id": "cell-9f2ed7c9a1272268",
     "locked": true,
     "schema_version": 1,
     "solution": false
    }
   },
   "source": [
    "### Question\n",
    "\n",
    "Définir un dictionnaire **reg_dict2** qui associe à chaque catégorie de région (Bas, Moyen, Haut) un triplet composé :\n",
    "- d'un entier représentant le nombre de régions de cette catégorie\n",
    "- d'un entier représentant la population total des régions de cette catégorie\n",
    "- d'un entier représentant la moyenne de la population des régions de cette catégorie\n",
    "\n",
    "Utiliser une boucle pour le faire."
   ]
  },
  {
   "cell_type": "code",
   "execution_count": 160,
   "metadata": {
    "nbgrader": {
     "grade": false,
     "grade_id": "cell-2708a7fc2ee6932b",
     "locked": false,
     "schema_version": 1,
     "solution": true
    },
    "tags": []
   },
   "outputs": [],
   "source": [
    "reg_dict2 = {'Bas': [0, 0, 0], 'Moyen': [0, 0, 0], 'Haut': [0, 0, 0]}\n",
    "\n",
    "for population in POP_REG:\n",
    "    if population < 3500:\n",
    "        reg_dict2['Bas'][0] += 1\n",
    "        reg_dict2['Bas'][1] += population\n",
    "    elif 3500 <= population < 6000:\n",
    "        reg_dict2['Moyen'][0] += 1\n",
    "        reg_dict2['Moyen'][1] += population\n",
    "    else:\n",
    "        reg_dict2['Haut'][0] += 1\n",
    "        reg_dict2['Haut'][1] += population\n",
    "\n",
    "for key in reg_dict2:\n",
    "    if reg_dict2[key][0] > 0:  # Pour éviter la division par zéro\n",
    "        reg_dict2[key][2] = reg_dict2[key][1] // reg_dict2[key][0]  # Utiliser la division entière pour la moyenne\n",
    "\n"
   ]
  },
  {
   "cell_type": "code",
   "execution_count": 162,
   "metadata": {
    "editable": false,
    "nbgrader": {
     "checksum": "608330ca25f18f792393ca71c6ff7cd1",
     "grade": true,
     "grade_id": "cell-cb183b13f6f40ef3",
     "locked": true,
     "points": 1,
     "schema_version": 1,
     "solution": false
    },
    "tags": []
   },
   "outputs": [
    {
     "data": {
      "text/plain": [
       "{'Bas': [5, 12390, 2478], 'Moyen': [5, 26098, 5219], 'Haut': [3, 26112, 8704]}"
      ]
     },
     "execution_count": 162,
     "metadata": {},
     "output_type": "execute_result"
    }
   ],
   "source": [
    "reg_dict2"
   ]
  },
  {
   "cell_type": "markdown",
   "metadata": {
    "editable": false,
    "nbgrader": {
     "checksum": "d877dadf3cb890b301e89ad75c5b266a",
     "grade": false,
     "grade_id": "cell-f0bbe5220bbf26de",
     "locked": true,
     "schema_version": 1,
     "solution": false
    },
    "tags": []
   },
   "source": [
    "## Exercice\n",
    "\n",
    "Ecrire une boucle **while** qui créé une liste des 20 premiers rangs d'une suite de Fibonacci (du rang 0 au rang 19).\n",
    "\n",
    "Une suite de Fibonacci est une suite dont chaque terme est égal à la somme des deux termes précédents.\n",
    "\n",
    "Supposons que les deux premiers rangs 0 et 1 valent respectivement 1 et 1.\n",
    "\n",
    "Le résultat doit être une liste de 20 éléments."
   ]
  },
  {
   "cell_type": "code",
   "execution_count": 168,
   "metadata": {
    "nbgrader": {
     "checksum": "d81a83b851552bfa47ed0b3434c0ba16",
     "grade": false,
     "grade_id": "cell-dee4a5a825c807db",
     "locked": false,
     "schema_version": 1,
     "solution": true
    },
    "tags": []
   },
   "outputs": [
    {
     "name": "stdout",
     "output_type": "stream",
     "text": [
      "[1, 1, 2, 3, 5, 8, 13, 21, 34, 55, 89, 144, 233, 377, 610, 987, 1597, 2584, 4181, 6765]\n"
     ]
    }
   ],
   "source": [
    "\n",
    "fibonacci = [1, 1]\n",
    "\n",
    "while len(fibonacci) < 20:\n",
    "    next_term = fibonacci[-1] + fibonacci[-2]\n",
    "    fibonacci.append(next_term)\n",
    "\n",
    "print(fibonacci)\n",
    "\n"
   ]
  },
  {
   "cell_type": "markdown",
   "metadata": {
    "editable": false,
    "nbgrader": {
     "checksum": "b8e41c625fc0561d7439b2b05b0f87fe",
     "grade": false,
     "grade_id": "cell-397355c4433f611a",
     "locked": true,
     "schema_version": 1,
     "solution": false
    }
   },
   "source": [
    "## Exercice\n",
    "\n",
    "### Question\n",
    "\n",
    "Soit la liste **TEXTE_DECOUP** définie par les mots suivants :"
   ]
  },
  {
   "cell_type": "code",
   "execution_count": 172,
   "metadata": {
    "editable": false,
    "nbgrader": {
     "checksum": "41e9194b07fdcef93c2c78b6882ce36b",
     "grade": false,
     "grade_id": "cell-b8088f38a89a1256",
     "locked": true,
     "schema_version": 1,
     "solution": false
    },
    "tags": []
   },
   "outputs": [],
   "source": [
    "TEXTE_DECOUP = [\n",
    "    'la', '75e', 'cérémonie', 'des', 'golden', 'globes', 'organisée', 'par', 'la',\n",
    "    'hollywood', 'foreign', 'press', 'association', 'a', 'eu', 'lieu', 'le', '7',\n",
    "    'janvier', '2018', 'et', 'récompense', 'les', 'films', 'et', 'séries', 'diffusés',\n",
    "    'en', '2017', 'ainsi', 'que', 'les', 'professionnels', \"s'étant\", 'distingués', 'cette',\n",
    "    'année-là', \"l'humoriste\", 'et', 'animateur', 'de', 'télévision', 'seth', 'meyers',\n",
    "    'présente', 'pour', 'la', 'première', 'fois', 'la', 'cérémonie', 'qui', 'est', 'diffusée',\n",
    "    'sur', 'le', 'réseau', 'nbc', 'il', 'succède', 'ainsi', 'à', 'jimmy', 'fallon', 'qui',\n",
    "    'avait', 'animé', 'la', 'cérémonie', 'précédente', 'les', 'nominations', 'sont', 'annoncées',\n",
    "    'le', '11', 'décembre', '2017', 'au', 'beverly', 'hilton', 'hotel', 'par', 'sharon', 'stone',\n",
    "    'alfre', 'woodard', 'garrett', 'hedlund', 'et', 'kristen', 'bell', 'le', 'cecil', 'b',\n",
    "    'demille', 'award', 'est', 'attribué', 'à', 'oprah', 'winfrey', 'pour', 'récompenser', \"l'ensemble\",\n",
    "    'de', 'sa', 'carrière'\n",
    "]"
   ]
  },
  {
   "cell_type": "markdown",
   "metadata": {
    "editable": false,
    "nbgrader": {
     "checksum": "563ce6219c1eb823b85efe76c249e413",
     "grade": false,
     "grade_id": "cell-d6599e5b8be82e0e",
     "locked": true,
     "schema_version": 1,
     "solution": false
    }
   },
   "source": [
    "Faire une boucle qui crée un dictionnaire **dict_res** qui à chaque mot (à mettre en minuscules) de la liste **TEXTE_DECOUP** associe le nombre d'occurences de ce mot dans cette liste (la fréquence de ces mots)"
   ]
  },
  {
   "cell_type": "markdown",
   "metadata": {
    "editable": false,
    "nbgrader": {
     "checksum": "f4a06e37d826e15447e5ecea4e5f7b8e",
     "grade": false,
     "grade_id": "cell-69b9cb6b11d26eee",
     "locked": true,
     "schema_version": 1,
     "solution": false
    },
    "tags": []
   },
   "source": [
    "### Question\n",
    "\n",
    "Ecrire une boucle qui créé la liste des mots qui sont apparus le plus souvent dans ce texte (ceux dont la fréquence est maximale parmi l'ensemble des fréquences)\n",
    "\n",
    "Cette liste peut contenir un ou plusieurs mots."
   ]
  },
  {
   "cell_type": "code",
   "execution_count": 210,
   "metadata": {
    "nbgrader": {
     "checksum": "ff92e4f7454c068e6a01368e0aa4134e",
     "grade": false,
     "grade_id": "cell-ee1f73558f473551",
     "locked": false,
     "schema_version": 1,
     "solution": true
    },
    "tags": []
   },
   "outputs": [],
   "source": [
    "#  On Crée le dictionnaire des fréquences\n",
    "dict_res = {}\n",
    "for mot in TEXTE_DECOUP:\n",
    "    mot_min = mot.lower()  # Convertir le mot en minuscules\n",
    "    if mot_min in dict_res:\n",
    "        dict_res[mot_min] += 1\n",
    "    else:\n",
    "        dict_res[mot_min] = 1\n",
    "\n",
    "# Puis on Identifie la fréquence maximale\n",
    "frequence_maximale = max(dict_res.values())\n",
    "\n",
    "# Et en fin on  Crée la liste des mots avec la fréquence maximale\n",
    "mots_frequence_max = [\n",
    "                        mot for mot,\n",
    "                        freq in dict_res.items() \n",
    "                        if freq == frequence_maximale\n",
    "                     ]\n",
    "\n"
   ]
  },
  {
   "cell_type": "code",
   "execution_count": 212,
   "metadata": {
    "tags": []
   },
   "outputs": [
    {
     "data": {
      "text/plain": [
       "{'la': 5,\n",
       " '75e': 1,\n",
       " 'cérémonie': 3,\n",
       " 'des': 1,\n",
       " 'golden': 1,\n",
       " 'globes': 1,\n",
       " 'organisée': 1,\n",
       " 'par': 2,\n",
       " 'hollywood': 1,\n",
       " 'foreign': 1,\n",
       " 'press': 1,\n",
       " 'association': 1,\n",
       " 'a': 1,\n",
       " 'eu': 1,\n",
       " 'lieu': 1,\n",
       " 'le': 4,\n",
       " '7': 1,\n",
       " 'janvier': 1,\n",
       " '2018': 1,\n",
       " 'et': 4,\n",
       " 'récompense': 1,\n",
       " 'les': 3,\n",
       " 'films': 1,\n",
       " 'séries': 1,\n",
       " 'diffusés': 1,\n",
       " 'en': 1,\n",
       " '2017': 2,\n",
       " 'ainsi': 2,\n",
       " 'que': 1,\n",
       " 'professionnels': 1,\n",
       " \"s'étant\": 1,\n",
       " 'distingués': 1,\n",
       " 'cette': 1,\n",
       " 'année-là': 1,\n",
       " \"l'humoriste\": 1,\n",
       " 'animateur': 1,\n",
       " 'de': 2,\n",
       " 'télévision': 1,\n",
       " 'seth': 1,\n",
       " 'meyers': 1,\n",
       " 'présente': 1,\n",
       " 'pour': 2,\n",
       " 'première': 1,\n",
       " 'fois': 1,\n",
       " 'qui': 2,\n",
       " 'est': 2,\n",
       " 'diffusée': 1,\n",
       " 'sur': 1,\n",
       " 'réseau': 1,\n",
       " 'nbc': 1,\n",
       " 'il': 1,\n",
       " 'succède': 1,\n",
       " 'à': 2,\n",
       " 'jimmy': 1,\n",
       " 'fallon': 1,\n",
       " 'avait': 1,\n",
       " 'animé': 1,\n",
       " 'précédente': 1,\n",
       " 'nominations': 1,\n",
       " 'sont': 1,\n",
       " 'annoncées': 1,\n",
       " '11': 1,\n",
       " 'décembre': 1,\n",
       " 'au': 1,\n",
       " 'beverly': 1,\n",
       " 'hilton': 1,\n",
       " 'hotel': 1,\n",
       " 'sharon': 1,\n",
       " 'stone': 1,\n",
       " 'alfre': 1,\n",
       " 'woodard': 1,\n",
       " 'garrett': 1,\n",
       " 'hedlund': 1,\n",
       " 'kristen': 1,\n",
       " 'bell': 1,\n",
       " 'cecil': 1,\n",
       " 'b': 1,\n",
       " 'demille': 1,\n",
       " 'award': 1,\n",
       " 'attribué': 1,\n",
       " 'oprah': 1,\n",
       " 'winfrey': 1,\n",
       " 'récompenser': 1,\n",
       " \"l'ensemble\": 1,\n",
       " 'sa': 1,\n",
       " 'carrière': 1}"
      ]
     },
     "execution_count": 212,
     "metadata": {},
     "output_type": "execute_result"
    }
   ],
   "source": [
    "dict_res"
   ]
  },
  {
   "cell_type": "code",
   "execution_count": 214,
   "metadata": {
    "tags": []
   },
   "outputs": [
    {
     "data": {
      "text/plain": [
       "['la']"
      ]
     },
     "execution_count": 214,
     "metadata": {},
     "output_type": "execute_result"
    }
   ],
   "source": [
    "mots_frequence_max"
   ]
  },
  {
   "cell_type": "markdown",
   "metadata": {
    "editable": false,
    "nbgrader": {
     "checksum": "e68dd376ff910138c17e96d663237a1c",
     "grade": false,
     "grade_id": "cell-0f2aaaa72b9bfa25",
     "locked": true,
     "schema_version": 1,
     "solution": false
    }
   },
   "source": [
    "### Question\n",
    "\n",
    "Ecrire une boucle qui permette de constituer la variable **liste_mots_frequents** qui est la liste de tous les mots qui sont apparus **strictement plus de 2 fois**"
   ]
  },
  {
   "cell_type": "code",
   "execution_count": 217,
   "metadata": {
    "nbgrader": {
     "checksum": "360072ad76c630013e9bd675f8fc1351",
     "grade": false,
     "grade_id": "cell-b330becf36434a7b",
     "locked": false,
     "schema_version": 1,
     "solution": true
    },
    "tags": []
   },
   "outputs": [],
   "source": [
    "# On Utilise le dictionnaire des fréquences existant (dict_res)\n",
    "# On Crée une liste des mots avec une fréquence strictement supérieure à 2\n",
    "liste_mots_frequents = [ mot for mot, \n",
    "                         freq in dict_res.items() \n",
    "                         if freq > 2\n",
    "                       ]\n",
    "\n",
    "\n"
   ]
  },
  {
   "cell_type": "code",
   "execution_count": 219,
   "metadata": {
    "editable": false,
    "nbgrader": {
     "checksum": "e7d458bc2543582b7f82acbe515f7b40",
     "grade": true,
     "grade_id": "cell-036196b57c3990bb",
     "locked": true,
     "points": 1,
     "schema_version": 1,
     "solution": false
    },
    "tags": []
   },
   "outputs": [
    {
     "data": {
      "text/plain": [
       "['la', 'cérémonie', 'le', 'et', 'les']"
      ]
     },
     "execution_count": 219,
     "metadata": {},
     "output_type": "execute_result"
    }
   ],
   "source": [
    "liste_mots_frequents"
   ]
  }
 ],
 "metadata": {
  "celltoolbar": "Diaporama",
  "kernelspec": {
   "display_name": "Python 3 (ipykernel)",
   "language": "python",
   "name": "python3"
  },
  "language_info": {
   "codemirror_mode": {
    "name": "ipython",
    "version": 3
   },
   "file_extension": ".py",
   "mimetype": "text/x-python",
   "name": "python",
   "nbconvert_exporter": "python",
   "pygments_lexer": "ipython3",
   "version": "3.11.7"
  },
  "toc": {
   "base_numbering": 1,
   "nav_menu": {
    "height": "12px",
    "width": "252px"
   },
   "number_sections": true,
   "sideBar": true,
   "skip_h1_title": false,
   "title_cell": "Table of Contents",
   "title_sidebar": "Contents",
   "toc_cell": false,
   "toc_position": {
    "height": "661px",
    "left": "0px",
    "right": "1411px",
    "top": "106px",
    "width": "193px"
   },
   "toc_section_display": "block",
   "toc_window_display": true
  },
  "toc-autonumbering": true,
  "varInspector": {
   "cols": {
    "lenName": 16,
    "lenType": 16,
    "lenVar": 40
   },
   "kernels_config": {
    "python": {
     "delete_cmd_postfix": "",
     "delete_cmd_prefix": "del ",
     "library": "var_list.py",
     "varRefreshCmd": "print(var_dic_list())"
    },
    "r": {
     "delete_cmd_postfix": ") ",
     "delete_cmd_prefix": "rm(",
     "library": "var_list.r",
     "varRefreshCmd": "cat(var_dic_list()) "
    }
   },
   "types_to_exclude": [
    "module",
    "function",
    "builtin_function_or_method",
    "instance",
    "_Feature"
   ],
   "window_display": false
  }
 },
 "nbformat": 4,
 "nbformat_minor": 4
}
