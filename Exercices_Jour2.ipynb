{
 "cells": [
  {
   "cell_type": "markdown",
   "id": "b16f3cf9",
   "metadata": {
    "tags": []
   },
   "source": [
    "### Exercice 1: Création de Tuples\n",
    "1. Créez un tuple nommé `etudiant` avec les éléments suivants : 'Alice', 20, 'Informatique'.\n",
    "2. Affichez le tuple `etudiant`.\n"
   ]
  },
  {
   "cell_type": "code",
   "execution_count": 17,
   "id": "2c97dbe3-e369-448f-9a5b-19d3fbd36d02",
   "metadata": {
    "tags": []
   },
   "outputs": [],
   "source": [
    "etudiant = ('Alice',  20 , 'Informatique')"
   ]
  },
  {
   "cell_type": "code",
   "execution_count": 19,
   "id": "77857b79-f39d-4322-9cdc-4f64d31f92ea",
   "metadata": {
    "tags": []
   },
   "outputs": [
    {
     "name": "stdout",
     "output_type": "stream",
     "text": [
      "('Alice', 20, 'Informatique')\n"
     ]
    }
   ],
   "source": [
    "print(etudiant)"
   ]
  },
  {
   "cell_type": "markdown",
   "id": "08c08166",
   "metadata": {},
   "source": [
    "### Exercice 2: Accès aux Éléments d'un Tuple\n",
    "1. À partir du tuple `etudiant` créé précédemment, accédez et affichez le nom de l'étudiant (premier élément).\n",
    "2. Accédez et affichez la spécialité de l'étudiant (dernier élément)."
   ]
  },
  {
   "cell_type": "code",
   "execution_count": 22,
   "id": "2bd28b9e-2b0c-4d96-a933-99b8baad1637",
   "metadata": {
    "tags": []
   },
   "outputs": [
    {
     "data": {
      "text/plain": [
       "'Alice'"
      ]
     },
     "execution_count": 22,
     "metadata": {},
     "output_type": "execute_result"
    }
   ],
   "source": [
    "etudiant[0]"
   ]
  },
  {
   "cell_type": "code",
   "execution_count": 24,
   "id": "e7621607-90a1-4e94-8a4d-f7f28b911b5c",
   "metadata": {
    "tags": []
   },
   "outputs": [
    {
     "data": {
      "text/plain": [
       "'Informatique'"
      ]
     },
     "execution_count": 24,
     "metadata": {},
     "output_type": "execute_result"
    }
   ],
   "source": [
    "etudiant[-1]"
   ]
  },
  {
   "cell_type": "markdown",
   "id": "b58e0e1a",
   "metadata": {},
   "source": [
    "### Exercice 3: Longueur d'un Tuple\n",
    "1. Utilisez la fonction `len()` pour trouver la longueur du tuple `etudiant`.\n",
    "2. Affichez la longueur du tuple."
   ]
  },
  {
   "cell_type": "code",
   "execution_count": 27,
   "id": "6699f18f-4b09-45f2-9edc-5fa738a31657",
   "metadata": {
    "tags": []
   },
   "outputs": [
    {
     "data": {
      "text/plain": [
       "3"
      ]
     },
     "execution_count": 27,
     "metadata": {},
     "output_type": "execute_result"
    }
   ],
   "source": [
    "len(etudiant)"
   ]
  },
  {
   "cell_type": "code",
   "execution_count": 29,
   "id": "daf691ab-5676-434d-94ed-2c1385085199",
   "metadata": {
    "tags": []
   },
   "outputs": [
    {
     "name": "stdout",
     "output_type": "stream",
     "text": [
      "3\n"
     ]
    }
   ],
   "source": [
    "print(len(etudiant))"
   ]
  },
  {
   "cell_type": "code",
   "execution_count": 31,
   "id": "401537c7-ead5-453b-8c02-890b69778f5e",
   "metadata": {
    "tags": []
   },
   "outputs": [],
   "source": [
    "### Autre solution"
   ]
  },
  {
   "cell_type": "code",
   "execution_count": 33,
   "id": "a924463d-65e4-4daf-82b5-573ddf63e5d4",
   "metadata": {
    "tags": []
   },
   "outputs": [],
   "source": [
    "longueur_etudiant=len(etudiant)"
   ]
  },
  {
   "cell_type": "code",
   "execution_count": 35,
   "id": "6a18d4dc-9f97-402e-a229-2bcedff0379b",
   "metadata": {
    "tags": []
   },
   "outputs": [
    {
     "name": "stdout",
     "output_type": "stream",
     "text": [
      "La longueur du tuple est: 3\n"
     ]
    }
   ],
   "source": [
    "print(\"La longueur du tuple est:\", longueur_etudiant)"
   ]
  },
  {
   "cell_type": "markdown",
   "id": "ef4c4dc4",
   "metadata": {
    "tags": []
   },
   "source": [
    "### Exercice 4: Tuples Imbriqués\n",
    "1. Créez un tuple nommé `coordonnees` avec les éléments suivants : ('Paris', (48.8566, 2.3522)).\n",
    "2. Affichez le tuple `coordonnees`.\n",
    "3. Accédez et affichez les coordonnées géographiques de Paris (deuxième élément du tuple `coordonnees`)."
   ]
  },
  {
   "cell_type": "code",
   "execution_count": 38,
   "id": "5bbec3b2-bb68-440e-83ed-fdca40391a0c",
   "metadata": {
    "tags": []
   },
   "outputs": [],
   "source": [
    "coordonnees=('Paris', (48.8566, 2.3522))"
   ]
  },
  {
   "cell_type": "code",
   "execution_count": 40,
   "id": "e3c83153-ef7c-4bee-8dc4-c51fc8f79ec9",
   "metadata": {
    "tags": []
   },
   "outputs": [
    {
     "name": "stdout",
     "output_type": "stream",
     "text": [
      "('Paris', (48.8566, 2.3522))\n"
     ]
    }
   ],
   "source": [
    "print(coordonnees)"
   ]
  },
  {
   "cell_type": "code",
   "execution_count": 42,
   "id": "6108f4e5-8cea-42d4-9699-7d4dd8490c9d",
   "metadata": {
    "tags": []
   },
   "outputs": [
    {
     "data": {
      "text/plain": [
       "(48.8566, 2.3522)"
      ]
     },
     "execution_count": 42,
     "metadata": {},
     "output_type": "execute_result"
    }
   ],
   "source": [
    "coordonnees[1]"
   ]
  },
  {
   "cell_type": "markdown",
   "id": "924b00bb",
   "metadata": {
    "tags": []
   },
   "source": [
    "### Exercice 5: Vérification de la Présence d'un Élément\n",
    "1. Vérifiez si le nombre 20 est présent dans le tuple `etudiant` et affichez le résultat (True ou False).\n",
    "2. Vérifiez si le mot 'Alice' est présent dans le tuple `etudiant` et affichez le résultat."
   ]
  },
  {
   "cell_type": "code",
   "execution_count": 45,
   "id": "4427fb58-ad50-4b56-a000-1994e003af81",
   "metadata": {
    "tags": []
   },
   "outputs": [
    {
     "data": {
      "text/plain": [
       "True"
      ]
     },
     "execution_count": 45,
     "metadata": {},
     "output_type": "execute_result"
    }
   ],
   "source": [
    "20 in etudiant"
   ]
  },
  {
   "cell_type": "code",
   "execution_count": 47,
   "id": "96fc9edc-570c-48f4-b2d5-f01d9d65d080",
   "metadata": {
    "tags": []
   },
   "outputs": [
    {
     "data": {
      "text/plain": [
       "True"
      ]
     },
     "execution_count": 47,
     "metadata": {},
     "output_type": "execute_result"
    }
   ],
   "source": [
    "'Alice' in etudiant"
   ]
  },
  {
   "cell_type": "markdown",
   "id": "67d7cebc-16c3-4fdf-845b-84465de35d7c",
   "metadata": {
    "tags": []
   },
   "source": [
    "###  Autre solution"
   ]
  },
  {
   "cell_type": "code",
   "execution_count": 50,
   "id": "d24be1d7-dd80-4763-949e-3bb42aa0b787",
   "metadata": {
    "tags": []
   },
   "outputs": [
    {
     "name": "stdout",
     "output_type": "stream",
     "text": [
      "Le nombre 20 est présent dans le tuple `etudiant`: True\n"
     ]
    }
   ],
   "source": [
    "presence_20 = 20 in etudiant\n",
    "print(\"Le nombre 20 est présent dans le tuple `etudiant`:\", presence_20)"
   ]
  },
  {
   "cell_type": "markdown",
   "id": "c5d88da3-336f-4e21-9f53-18d0debe8283",
   "metadata": {},
   "source": [
    "### Exercice 6: Manipulation de Base des Listes\n",
    "Créez une liste cours_suivis contenant les éléments suivants : 'Python', 'Statistiques', 'Machine Learning', 'Deep Learning'.\n",
    "Vérifiez si 'Statistiques' est présent dans la liste et affichez le résultat.\n",
    "Ajoutez 'Analyse de Données' à la fin de la liste et affichez la liste mise à jour.\n"
   ]
  },
  {
   "cell_type": "code",
   "execution_count": 53,
   "id": "b78e3eb8-d315-4942-8c00-ebc5fde23d66",
   "metadata": {
    "tags": []
   },
   "outputs": [],
   "source": [
    " cours_suivi=['Python', 'Statistiques', 'Machine Learning', 'Deep Learning']"
   ]
  },
  {
   "cell_type": "code",
   "execution_count": 55,
   "id": "1163950a-f1c0-4858-9ff5-ebd3ec659651",
   "metadata": {
    "tags": []
   },
   "outputs": [
    {
     "data": {
      "text/plain": [
       "['Python', 'Statistiques', 'Machine Learning', 'Deep Learning']"
      ]
     },
     "execution_count": 55,
     "metadata": {},
     "output_type": "execute_result"
    }
   ],
   "source": [
    " cours_suivi"
   ]
  },
  {
   "cell_type": "code",
   "execution_count": 57,
   "id": "f3e53bd8-5c3e-493a-8d75-54fcf83bbe53",
   "metadata": {
    "tags": []
   },
   "outputs": [
    {
     "data": {
      "text/plain": [
       "True"
      ]
     },
     "execution_count": 57,
     "metadata": {},
     "output_type": "execute_result"
    }
   ],
   "source": [
    "'Statistiques' in cours_suivi"
   ]
  },
  {
   "cell_type": "code",
   "execution_count": 59,
   "id": "2a5dddd5-cf55-49e1-9c38-9423cf35c67a",
   "metadata": {
    "tags": []
   },
   "outputs": [],
   "source": [
    "est_présent= 'Statistiques' in cours_suivi"
   ]
  },
  {
   "cell_type": "code",
   "execution_count": 61,
   "id": "d6c1ff8b-a2f7-42aa-9cb7-5a93c0e37869",
   "metadata": {
    "tags": []
   },
   "outputs": [
    {
     "name": "stdout",
     "output_type": "stream",
     "text": [
      "Statistiques est présent dans la liste `cours_suivi`: True\n"
     ]
    }
   ],
   "source": [
    "print(\"Statistiques est présent dans la liste `cours_suivi`:\", est_présent)"
   ]
  },
  {
   "cell_type": "code",
   "execution_count": 63,
   "id": "f4fd5bc9-9b54-4dda-a797-884a65f77005",
   "metadata": {
    "tags": []
   },
   "outputs": [],
   "source": [
    "cours_suivi.append('Analyse de Données')"
   ]
  },
  {
   "cell_type": "code",
   "execution_count": 65,
   "id": "75cce8ad-392b-4c44-b6ed-bfa592ab2130",
   "metadata": {
    "tags": []
   },
   "outputs": [
    {
     "data": {
      "text/plain": [
       "['Python',\n",
       " 'Statistiques',\n",
       " 'Machine Learning',\n",
       " 'Deep Learning',\n",
       " 'Analyse de Données']"
      ]
     },
     "execution_count": 65,
     "metadata": {},
     "output_type": "execute_result"
    }
   ],
   "source": [
    " cours_suivi"
   ]
  },
  {
   "cell_type": "markdown",
   "id": "5eb7e84a-775e-4e7a-8562-8352b991d77e",
   "metadata": {
    "tags": []
   },
   "source": [
    "### Exercice 7: Indexation et Slicing\n",
    "Affichez le premier et le dernier cours de la liste cours_suivis.\n",
    "Sélectionnez et affichez les cours du milieu (du deuxième au troisième) en utilisant le slicing.\n"
   ]
  },
  {
   "cell_type": "code",
   "execution_count": 68,
   "id": "b37f3291-cac2-48e3-95d3-47eca5586a39",
   "metadata": {
    "tags": []
   },
   "outputs": [
    {
     "name": "stdout",
     "output_type": "stream",
     "text": [
      "le premier cours est: Python\n"
     ]
    }
   ],
   "source": [
    "premier_cours= cours_suivi[0]\n",
    "print (\"le premier cours est:\", premier_cours)"
   ]
  },
  {
   "cell_type": "code",
   "execution_count": 70,
   "id": "fa2dc1ee-fea0-4a74-9366-fd26571b592a",
   "metadata": {
    "tags": []
   },
   "outputs": [
    {
     "name": "stdout",
     "output_type": "stream",
     "text": [
      "le dernier cours est: Analyse de Données\n"
     ]
    }
   ],
   "source": [
    "dernier_cours= cours_suivi[-1]\n",
    "print (\"le dernier cours est:\", dernier_cours)"
   ]
  },
  {
   "cell_type": "code",
   "execution_count": 72,
   "id": "f6be1aaf-ac3d-4ef7-bfc5-e57f6aa48c7b",
   "metadata": {
    "tags": []
   },
   "outputs": [
    {
     "name": "stdout",
     "output_type": "stream",
     "text": [
      "les cours en milieu sont: ['Statistiques', 'Machine Learning']\n"
     ]
    }
   ],
   "source": [
    "cours_milieu = cours_suivi[1:3]\n",
    "print (\"les cours en milieu sont:\", cours_milieu)\n"
   ]
  },
  {
   "cell_type": "markdown",
   "id": "e64e8c4a-b865-4b06-85d4-a483f4a93536",
   "metadata": {},
   "source": [
    "### Exercice 8: Tri et Inversion\n",
    "Triez la liste cours_suivis dans l'ordre alphabétique et affichez le résultat.\n",
    "Inversez l'ordre de la liste et affichez la liste inversée.\n"
   ]
  },
  {
   "cell_type": "code",
   "execution_count": 75,
   "id": "9f64f34a-6623-43f9-a044-ae094f8f1f75",
   "metadata": {
    "tags": []
   },
   "outputs": [
    {
     "name": "stdout",
     "output_type": "stream",
     "text": [
      "Liste triée des cours suivi: ['Analyse de Données', 'Deep Learning', 'Machine Learning', 'Python', 'Statistiques']\n"
     ]
    }
   ],
   "source": [
    "cours_suivi.sort()\n",
    "print(\"Liste triée des cours suivi:\", cours_suivi)"
   ]
  },
  {
   "cell_type": "code",
   "execution_count": 77,
   "id": "b3d18537-2f7e-4836-9d2a-18a9d24750ab",
   "metadata": {
    "tags": []
   },
   "outputs": [
    {
     "name": "stdout",
     "output_type": "stream",
     "text": [
      "Liste inversée des cours suivi: ['Statistiques', 'Python', 'Machine Learning', 'Deep Learning', 'Analyse de Données']\n"
     ]
    }
   ],
   "source": [
    "cours_suivi.reverse()\n",
    "print(\"Liste inversée des cours suivi:\", cours_suivi)"
   ]
  },
  {
   "cell_type": "markdown",
   "id": "9df9794b-b884-48d7-8eb2-5bce72812586",
   "metadata": {
    "tags": []
   },
   "source": [
    "### Exercice 9: Analyse des Données de la Liste\n",
    "Supposons que chaque cours a une durée associée en heures : Python (30h), Statistiques (20h), Machine Learning (40h), Deep Learning (50h), Analyse de Données (25h). \n",
    "\n",
    "Stockez ces informations dans un dictionnaire.\n",
    "Calculez et affichez la durée totale des cours suivis par l'étudiant.\n"
   ]
  },
  {
   "cell_type": "code",
   "execution_count": 80,
   "id": "1a93a579-ab90-4c2a-b9ca-2684d819dcee",
   "metadata": {
    "tags": []
   },
   "outputs": [],
   "source": [
    "Cours_suivi1 = {\n",
    "    'Python': 30,\n",
    "    'Statistiques': 20,\n",
    "    'Machine Learning': 40,\n",
    "    'Deep Learning': 50,\n",
    "    'Analyse de Données': 25\n",
    "}"
   ]
  },
  {
   "cell_type": "code",
   "execution_count": 82,
   "id": "ed38933c-e3a7-4f7e-951f-b1304f3e4b73",
   "metadata": {
    "tags": []
   },
   "outputs": [
    {
     "name": "stdout",
     "output_type": "stream",
     "text": [
      "La durée totale des cours suivis par l'étudiant est: 165 heures\n"
     ]
    }
   ],
   "source": [
    "duree_totale = sum(Cours_suivi1.values())\n",
    "print(\"La durée totale des cours suivis par l'étudiant est:\", duree_totale, \"heures\")"
   ]
  },
  {
   "cell_type": "markdown",
   "id": "2ef2388b-2e05-4733-ab7e-34e8a2365a73",
   "metadata": {},
   "source": [
    "## Exercice 10: Modification Avancée de Liste\n",
    "Remplacez 'Deep Learning' par 'Apprentissage Automatique' dans la liste cours_suivis.\n",
    "Ajoutez 'Visualisation de Données' après 'Analyse de Données' en utilisant la méthode insert.\n",
    "Supprimez 'Python' de la liste en utilisant la méthode remove."
   ]
  },
  {
   "cell_type": "code",
   "execution_count": 85,
   "id": "5d7ad8ac-fe62-417e-ac85-7c4b4c8ff316",
   "metadata": {
    "tags": []
   },
   "outputs": [],
   "source": [
    "\n",
    "index_deep_learning = cours_suivi.index('Deep Learning')\n",
    "cours_suivi[index_deep_learning] = 'Apprentissage Automatique'\n"
   ]
  },
  {
   "cell_type": "code",
   "execution_count": 87,
   "id": "51f69a52-9442-43a8-81dc-5803eb846cc2",
   "metadata": {
    "tags": []
   },
   "outputs": [],
   "source": [
    "index_analyse_donnees = cours_suivi.index('Analyse de Données')\n",
    "cours_suivi.insert(index_analyse_donnees + 1, 'Visualisation de Données')\n"
   ]
  },
  {
   "cell_type": "code",
   "execution_count": 89,
   "id": "904619ef-1197-4484-be81-bf347d93129a",
   "metadata": {
    "tags": []
   },
   "outputs": [
    {
     "name": "stdout",
     "output_type": "stream",
     "text": [
      "Liste mise à jour des cours suivis: ['Statistiques', 'Machine Learning', 'Apprentissage Automatique', 'Analyse de Données', 'Visualisation de Données']\n"
     ]
    }
   ],
   "source": [
    "cours_suivi.remove('Python')\n",
    "\n",
    "print(\"Liste mise à jour des cours suivis:\", cours_suivi)"
   ]
  },
  {
   "cell_type": "markdown",
   "id": "53510073-c12d-424f-80be-c31924c77a8f",
   "metadata": {
    "tags": []
   },
   "source": [
    "### Exercice 11: Création et Manipulation de Sets\n",
    "Créez un set langages_programmation contenant 'Python', 'Java', 'C++', 'Python'.\n",
    "\n",
    "\n",
    "Affichez le set pour observer qu'il n'y a pas de doublons.\n",
    "\n",
    "\n",
    "Ajoutez 'Ruby' au set et supprimez 'Java'.\n",
    "\n",
    "\n",
    "Vérifiez si 'C++' est présent dans le set.\n"
   ]
  },
  {
   "cell_type": "code",
   "execution_count": 92,
   "id": "30dfebca-0c61-4e57-933e-c76529780fbf",
   "metadata": {
    "tags": []
   },
   "outputs": [],
   "source": [
    "langages_programmation ={ 'Python', 'Java', 'C++', 'Python'}"
   ]
  },
  {
   "cell_type": "code",
   "execution_count": 94,
   "id": "dc8cdba3-301d-4a1b-8650-b7f07be14335",
   "metadata": {
    "tags": []
   },
   "outputs": [
    {
     "data": {
      "text/plain": [
       "{'C++', 'Java', 'Python'}"
      ]
     },
     "execution_count": 94,
     "metadata": {},
     "output_type": "execute_result"
    }
   ],
   "source": [
    "langages_programmation "
   ]
  },
  {
   "cell_type": "code",
   "execution_count": 108,
   "id": "ce2e0716-dc25-4a0f-902d-5952dabd980e",
   "metadata": {
    "tags": []
   },
   "outputs": [
    {
     "data": {
      "text/plain": [
       "{'C++', 'Java', 'Python', 'Ruby'}"
      ]
     },
     "execution_count": 108,
     "metadata": {},
     "output_type": "execute_result"
    }
   ],
   "source": [
    "langages_programmation.add ('Ruby')\n",
    "langages_programmation\n"
   ]
  },
  {
   "cell_type": "code",
   "execution_count": 113,
   "id": "43ebfc90-5636-46bf-9a6d-18b8daa8ce69",
   "metadata": {
    "tags": []
   },
   "outputs": [
    {
     "data": {
      "text/plain": [
       "{'C++', 'Python', 'Ruby'}"
      ]
     },
     "execution_count": 113,
     "metadata": {},
     "output_type": "execute_result"
    }
   ],
   "source": [
    "langages_programmation.remove('Java')\n",
    "langages_programmation\n"
   ]
  },
  {
   "cell_type": "code",
   "execution_count": 118,
   "id": "d14cd5c4-e506-4f8f-9452-94706b93528d",
   "metadata": {
    "tags": []
   },
   "outputs": [
    {
     "data": {
      "text/plain": [
       "True"
      ]
     },
     "execution_count": 118,
     "metadata": {},
     "output_type": "execute_result"
    }
   ],
   "source": [
    "'C++' in langages_programmation\n"
   ]
  },
  {
   "cell_type": "markdown",
   "id": "30fd8ec7-f656-4400-b157-230de9497bd0",
   "metadata": {},
   "source": [
    "### Exercice 12: Opérations sur les Sets\n",
    "Créez un second set langages_web contenant 'JavaScript', 'HTML', 'CSS', 'Python'.\n",
    "\n",
    "\n",
    "Trouvez l'union et l'intersection de langages_programmation et langages_web.\n",
    "\n",
    "\n",
    "Créez un set langages_uniques qui contient les langages présents uniquement dans un des deux sets.\n",
    "\n"
   ]
  },
  {
   "cell_type": "code",
   "execution_count": 121,
   "id": "f09c59e2-793c-4a5b-8ee3-12e0bc21e35d",
   "metadata": {
    "tags": []
   },
   "outputs": [],
   "source": [
    "langages_web ={'JavaScript', 'HTML', 'CSS', 'Python'}"
   ]
  },
  {
   "cell_type": "code",
   "execution_count": 125,
   "id": "02e5db60-b0a6-4fa4-9015-bc37537ddcc9",
   "metadata": {
    "tags": []
   },
   "outputs": [
    {
     "data": {
      "text/plain": [
       "{'C++', 'CSS', 'HTML', 'JavaScript', 'Python', 'Ruby'}"
      ]
     },
     "execution_count": 125,
     "metadata": {},
     "output_type": "execute_result"
    }
   ],
   "source": [
    " langages_programmation.union(langages_web)"
   ]
  },
  {
   "cell_type": "code",
   "execution_count": 127,
   "id": "393e1fb6-fac7-4921-832b-25a26ba9d4c1",
   "metadata": {
    "tags": []
   },
   "outputs": [
    {
     "data": {
      "text/plain": [
       "{'Python'}"
      ]
     },
     "execution_count": 127,
     "metadata": {},
     "output_type": "execute_result"
    }
   ],
   "source": [
    "langages_uniques"
   ]
  },
  {
   "cell_type": "code",
   "execution_count": 127,
   "id": "f69c7f77-63a3-4564-8e6f-5016388458a8",
   "metadata": {
    "tags": []
   },
   "outputs": [
    {
     "data": {
      "text/plain": [
       "{'Python'}"
      ]
     },
     "execution_count": 127,
     "metadata": {},
     "output_type": "execute_result"
    }
   ],
   "source": [
    " langages_programmation.intersection(langages_web)"
   ]
  },
  {
   "cell_type": "code",
   "execution_count": 135,
   "id": "0f7fcdf5-08c0-4225-8121-d0db01e8a8cd",
   "metadata": {
    "tags": []
   },
   "outputs": [
    {
     "data": {
      "text/plain": [
       "{'C++', 'CSS', 'HTML', 'JavaScript', 'Ruby'}"
      ]
     },
     "execution_count": 135,
     "metadata": {},
     "output_type": "execute_result"
    }
   ],
   "source": [
    "langages_uniques=langages_programmation ^ langages_web\n",
    "langages_uniques"
   ]
  },
  {
   "cell_type": "markdown",
   "id": "654be9fd-66b3-494f-8b4b-cd5fc79094f9",
   "metadata": {},
   "source": [
    "### Exercice 13: Création et Accès aux Dicts\n",
    "Créez un dict capitales avec des pays comme clés ('France', 'Allemagne', 'Espagne') et leurs capitales comme valeurs.\n",
    "\n",
    "\n",
    "Accédez à la capitale de l'Espagne.\n",
    "\n",
    "\n",
    "Ajoutez 'Italie' avec sa capitale.\n"
   ]
  },
  {
   "cell_type": "code",
   "execution_count": 138,
   "id": "301e5d11-b885-45fb-84a7-9dd282960234",
   "metadata": {
    "tags": []
   },
   "outputs": [],
   "source": [
    "pays={'France':'Paris', 'Allemagne':'Berlin', 'Espagne':'Madrid'}"
   ]
  },
  {
   "cell_type": "code",
   "execution_count": 141,
   "id": "5a59d739-7b1a-4dc9-9ea7-7978edfdc633",
   "metadata": {
    "tags": []
   },
   "outputs": [
    {
     "name": "stdout",
     "output_type": "stream",
     "text": [
      "La capitale de l'Espagne est: Madrid\n"
     ]
    }
   ],
   "source": [
    "capitale_espagne = pays['Espagne']\n",
    "print(\"La capitale de l'Espagne est:\", capitale_espagne)"
   ]
  },
  {
   "cell_type": "code",
   "execution_count": 143,
   "id": "7774b200-6c01-4d1a-87e2-78370de3ae03",
   "metadata": {
    "tags": []
   },
   "outputs": [
    {
     "name": "stdout",
     "output_type": "stream",
     "text": [
      "Dictionnaire des pays mis à jour: {'France': 'Paris', 'Allemagne': 'Berlin', 'Espagne': 'Madrid', 'Italie': 'Rome'}\n"
     ]
    }
   ],
   "source": [
    "pays['Italie'] = 'Rome'\n",
    "print(\"Dictionnaire des pays mis à jour:\",pays)"
   ]
  },
  {
   "cell_type": "markdown",
   "id": "d98edbd4-e0b0-463d-aef6-a8c86281df9a",
   "metadata": {
    "tags": []
   },
   "source": [
    "### Exercice 14: Manipulation de Dicts\n",
    "\n",
    "Supprimez l'entrée 'Allemagne' du dict capitales.\n",
    "\n",
    "\n",
    "Modifiez la capitale de 'France' en 'Marseille'.\n",
    "\n",
    "\n",
    "Affichez toutes les clés (pays) du dict.\n"
   ]
  },
  {
   "cell_type": "code",
   "execution_count": 148,
   "id": "8a2b5593-8cba-4e36-8624-312eb1a2b5bf",
   "metadata": {
    "tags": []
   },
   "outputs": [
    {
     "name": "stdout",
     "output_type": "stream",
     "text": [
      "Liste des pays dans le dictionnaire des capitales: dict_keys(['France', 'Espagne', 'Italie'])\n",
      "Dictionnaire des capitales mis à jour: {'France': 'Marseille', 'Espagne': 'Madrid', 'Italie': 'Rome'}\n"
     ]
    }
   ],
   "source": [
    "del pays['Allemagne']\n",
    "pays['France'] = 'Marseille'\n",
    "\n",
    "cles_pays = pays.keys()\n",
    "print(\"Liste des pays dans le dictionnaire des capitales:\", cles_pays)\n",
    "\n",
    "print(\"Dictionnaire des capitales mis à jour:\", pays)"
   ]
  },
  {
   "cell_type": "markdown",
   "id": "9c084f45-2de0-4501-931b-3308602ddaa5",
   "metadata": {
    "tags": []
   },
   "source": [
    "###  Exercice 15: Fusion de Dicts\n",
    "Créez un second dict capitales_asie avec quatres pays d'Asie de votre choix et leurs capitales .\n",
    "\n",
    "\n",
    "Fusionnez capitales et capitales_asie dans un nouveau dict capitales_globales.\n",
    "\n",
    "\n",
    "Vérifiez si 'Japon' est présent dans capitales_globales."
   ]
  },
  {
   "cell_type": "code",
   "execution_count": 152,
   "id": "4dd9856e-4cc2-4a4f-bde1-58648cf3210f",
   "metadata": {
    "tags": []
   },
   "outputs": [
    {
     "name": "stdout",
     "output_type": "stream",
     "text": [
      "Le Japon est présent dans le dictionnaire des capitales globales: False\n",
      "Dictionnaire des capitales globales: {'France': 'Marseille', 'Espagne': 'Madrid', 'Italie': 'Rome', 'Syrie': 'Damas', 'Palestine': 'Jérusalem', 'Jordan': 'Amman', 'Baghdad': 'Baghdad'}\n"
     ]
    }
   ],
   "source": [
    "capitales_asie = {\n",
    "    'Syrie': 'Damas',\n",
    "    'Palestine': 'Jérusalem',\n",
    "    'Jordan': 'Amman',\n",
    "    'Iraq': 'Baghdad'\n",
    "}\n",
    "\n",
    "# Fusion des dictionnaires `capitales` et `capitales_asie` dans `capitales_globales`\n",
    "capitales_globales = {**pays, **capitales_asie}\n",
    "\n",
    "# Vérification de la présence du 'Japon' dans `capitales_globales`\n",
    "presence_japon = 'Japon' in capitales_globales\n",
    "print(\"Le Japon est présent dans le dictionnaire des capitales globales:\", presence_japon)\n",
    "\n",
    "# Affichage du dictionnaire `capitales_globales`\n",
    "print(\"Dictionnaire des capitales globales:\", capitales_globales)"
   ]
  },
  {
   "cell_type": "markdown",
   "id": "6af31782-8857-4847-91d9-23ff5b1e4b3e",
   "metadata": {},
   "source": [
    "### Exercice 16: Analyse de Données de Pays\n",
    "Imaginez que vous travaillez sur une base de données mondiale pour une organisation internationale. Vous avez le dictionnaire suivant représentant certains pays et leurs codes ISO :\n"
   ]
  },
  {
   "cell_type": "code",
   "execution_count": 156,
   "id": "91ad8c74-ae56-47b4-8abb-dae8ca9f01af",
   "metadata": {
    "tags": []
   },
   "outputs": [],
   "source": [
    "codes_pays = {\n",
    "    'USA': 'United States', \n",
    "    'GB': 'United Kingdom', \n",
    "    'FR': 'France', \n",
    "    'DE': 'Germany'} "
   ]
  },
  {
   "cell_type": "markdown",
   "id": "ed18b930-1343-43bb-a248-1b3e98feb49a",
   "metadata": {},
   "source": [
    "- Affichez la liste de tous les codes de pays (clés) \n",
    "- Affichez la liste de tous les pays (valeurs). \n",
    "\n",
    "Votre organisation décide d'ajouter le Japon à la base de données : \n",
    "\n",
    "- Ajoutez 'JP': 'Japan' au dictionnaire. \n",
    "\n",
    "L'organisation ne travaille plus avec l'Allemagne : \n",
    "- Supprimez 'DE' du dictionnaire et affichez le dictionnaire mis à jour."
   ]
  },
  {
   "cell_type": "code",
   "execution_count": 158,
   "id": "7f060e11-5d5f-4c73-8c2d-c1d4412dc434",
   "metadata": {
    "tags": []
   },
   "outputs": [
    {
     "name": "stdout",
     "output_type": "stream",
     "text": [
      "Liste des codes de pays: ['USA', 'GB', 'FR', 'DE']\n",
      "Liste des pays: ['United States', 'United Kingdom', 'France', 'Germany']\n",
      "Dictionnaire mis à jour des codes de pays: {'USA': 'United States', 'GB': 'United Kingdom', 'FR': 'France', 'JP': 'Japan'}\n"
     ]
    }
   ],
   "source": [
    "\n",
    "codes = list(codes_pays.keys())\n",
    "print(\"Liste des codes de pays:\", codes)\n",
    "\n",
    "pays = list(codes_pays.values())\n",
    "print(\"Liste des pays:\", pays)\n",
    "\n",
    "codes_pays['JP'] = 'Japan'\n",
    "\n",
    "del codes_pays['DE']\n",
    "\n",
    "print(\"Dictionnaire mis à jour des codes de pays:\", codes_pays)\n",
    " "
   ]
  },
  {
   "cell_type": "markdown",
   "id": "f1a9c284-0479-4a9c-aed6-278cdd9ca1ef",
   "metadata": {},
   "source": [
    "### Exercice 17: Analyse de Produits et Prix\n",
    "Vous analysez les prix des produits pour une chaîne de supermarchés. Le dictionnaire suivant contient des produits et leurs prix :\n",
    "\n"
   ]
  },
  {
   "cell_type": "code",
   "execution_count": 187,
   "id": "232058ce-9506-4c74-be25-831589aa9aca",
   "metadata": {
    "tags": []
   },
   "outputs": [],
   "source": [
    "produits_prix = {\n",
    "    'Pommes': 1.2, \n",
    "    'Bananes': 0.5, \n",
    "    'Oranges': 0.8\n",
    "}"
   ]
  },
  {
   "cell_type": "markdown",
   "id": "0d1b73bc-655b-4600-a6fc-bac302701828",
   "metadata": {},
   "source": [
    "- Affichez la liste des produits (clés).\n",
    "- Affichez la liste des prix (valeurs).\n",
    "\n",
    "La chaîne de supermarchés lance un nouveau produit, les 'Kiwi', à 1.50 :\n",
    "- Ajoutez-le au dictionnaire.\n",
    "- Convertissez les vues des clés et des valeurs en listes et affichez-les."
   ]
  },
  {
   "cell_type": "code",
   "execution_count": 193,
   "id": "a186f442-f5a8-4e86-9074-5e3be39843aa",
   "metadata": {
    "tags": []
   },
   "outputs": [
    {
     "name": "stdout",
     "output_type": "stream",
     "text": [
      "Liste des produits: ['Pommes', 'Bananes', 'Oranges']\n"
     ]
    }
   ],
   "source": [
    "produits = list(produits_prix.keys())\n",
    "print(\"Liste des produits:\", produits)"
   ]
  },
  {
   "cell_type": "code",
   "execution_count": 191,
   "id": "23bf5b1d-7e73-4bb8-9c28-da0ff26246e9",
   "metadata": {
    "tags": []
   },
   "outputs": [
    {
     "name": "stdout",
     "output_type": "stream",
     "text": [
      "Liste de prix de produits: [1.2, 0.5, 0.8]\n"
     ]
    }
   ],
   "source": [
    " prix= list(produits_prix.values())\n",
    "print(\"Liste de prix de produits:\", prix)\n"
   ]
  },
  {
   "cell_type": "code",
   "execution_count": 197,
   "id": "6d46ef33-a9cb-48ff-993d-6ec3a4eee902",
   "metadata": {
    "tags": []
   },
   "outputs": [
    {
     "name": "stdout",
     "output_type": "stream",
     "text": [
      "Liste mise à jour des produits: ['Pommes', 'Bananes', 'Oranges', 'Kiwi']\n",
      "Liste mise à jour des prix: [1.2, 0.5, 0.8, 1.5]\n"
     ]
    }
   ],
   "source": [
    "produits_prix['Kiwi'] = 1.50\n",
    "produits_mis_a_jour = list(produits_prix.keys())\n",
    "prix_mis_a_jour = list(produits_prix.values())\n",
    "print(\"Liste mise à jour des produits:\", produits_mis_a_jour)\n",
    "print(\"Liste mise à jour des prix:\", prix_mis_a_jour)"
   ]
  },
  {
   "cell_type": "markdown",
   "id": "d3cea8a8-6c0b-4850-8511-572596f662d5",
   "metadata": {},
   "source": [
    "### Exercice 18 : Fusion de Données d'Équipe\n",
    "Vous travaillez sur la fusion de données d'équipe pour une entreprise qui vient de fusionner deux de ses départements. Vous avez les dictionnaires suivants :\n",
    "\n"
   ]
  },
  {
   "cell_type": "code",
   "execution_count": 201,
   "id": "92c122e2-d55d-4d93-b7ab-48841d5dcc10",
   "metadata": {
    "tags": []
   },
   "outputs": [],
   "source": [
    "departement_A = {'Alice': 'Comptabilité', 'Bob': 'IT'}\n",
    "departement_B = {'Charlie': 'Ressources Humaines', 'Diana': 'Marketing', 'Alice': 'Finance'}"
   ]
  },
  {
   "cell_type": "markdown",
   "id": "2817f0dc-0f4a-4b80-b64e-1ead5e88635b",
   "metadata": {},
   "source": [
    "- Fusionnez les deux départements dans un nouveau dictionnaire departement_unifie.\n",
    "- Gérez la situation où 'Alice' apparaît dans les deux départements mais avec des rôles différents."
   ]
  },
  {
   "cell_type": "code",
   "execution_count": 212,
   "id": "5182e655-c648-4569-8c29-5c0e4caee03c",
   "metadata": {
    "tags": []
   },
   "outputs": [
    {
     "name": "stdout",
     "output_type": "stream",
     "text": [
      "{'Alice': 'Comptabilité', 'Bob': 'IT', 'Charlie': 'Ressources Humaines', 'Diana': 'Marketing', 'Alice_B': 'Finance'}\n"
     ]
    }
   ],
   "source": [
    "departement_unifie = departement_A.copy()\n",
    "\n",
    "# Parcourir departement_B et ajouter les entrées au dictionnaire unifié\n",
    "for cle, valeur in departement_B.items():\n",
    "    if cle in departement_unifie:\n",
    "        # Gérer la situation où 'Alice' apparaît dans les deux départements\n",
    "        departement_unifie[f'{cle}_B'] = valeur\n",
    "    else:\n",
    "        departement_unifie[cle] = valeur\n",
    "\n",
    "print(departement_unifie)"
   ]
  },
  {
   "cell_type": "markdown",
   "id": "fb9acfbb-22bd-43bd-8c46-c98f3d99bc95",
   "metadata": {},
   "source": [
    "### Exercice 19: Gestion de Données Étudiantes Complexes\n",
    "Vous avez été chargé d'analyser les données des étudiants pour une université. Le dictionnaire suivant contient des informations détaillées sur certains étudiants :\n"
   ]
  },
  {
   "cell_type": "code",
   "execution_count": 215,
   "id": "1d81580d-500a-4774-817b-abef10376136",
   "metadata": {
    "tags": []
   },
   "outputs": [],
   "source": [
    "donnees_etudiants = { \n",
    "    32075: ('Mourad', ['M2 Data Science', 'M1 Informatique', 'L3 Mathématiques'], {'Python', 'SQL', 'Java'}),\n",
    "    20312: ('Sabrina', ['M2 Marketing', 'M1 Business', 'L3 Économie'], {'Marketing', 'Statistiques', 'Excel'})\n",
    "}\n"
   ]
  },
  {
   "cell_type": "markdown",
   "id": "7a18ccc0-9580-4093-a994-963d2d26195a",
   "metadata": {},
   "source": [
    "- Accédez et affichez le programme d'étude le plus récent de 'Mourad'.\n",
    "- Ajoutez une nouvelle compétence, 'R', à l'ensemble des compétences de 'Sabrina'.\n",
    "- Créez une fonction pour comparer les compétences de 'Mourad' et 'Sabrina', et identifiez les compétences communes."
   ]
  },
  {
   "cell_type": "code",
   "execution_count": 76,
   "id": "d51b74f9-96be-49d3-b4bd-27cbc90b10d1",
   "metadata": {
    "tags": []
   },
   "outputs": [
    {
     "name": "stdout",
     "output_type": "stream",
     "text": [
      "Liste mise à jour des cours suivis: ['Statistiques', 'Machine Learning', 'Apprentissage Automatique', 'Analyse de Données', 'Visualisation de Données']\n"
     ]
    }
   ],
   "source": [
    "\n",
    "index_deep_learning = cours_suivi.index('Deep Learning')\n",
    "cours_suivi[index_deep_learning] = 'Apprentissage Automatique'\n",
    "\n",
    "index_analyse_donnees = cours_suivi.index('Analyse de Données')\n",
    "cours_suivi.insert(index_analyse_donnees + 1, 'Visualisation de Données')\n",
    "\n",
    "cours_suivi.remove('Python')\n",
    "\n",
    "print(\"Liste mise à jour des cours suivis:\", cours_suivi)\n"
   ]
  },
  {
   "cell_type": "code",
   "execution_count": 217,
   "id": "37c7a595-f480-43ae-b98f-ae7e83930c61",
   "metadata": {
    "tags": []
   },
   "outputs": [
    {
     "name": "stdout",
     "output_type": "stream",
     "text": [
      "Le programme d'étude le plus récent de Mourad est : M2 Data Science\n"
     ]
    }
   ],
   "source": [
    "mourad_programme_recent = donnees_etudiants[32075][1][0]\n",
    "print(f\"Le programme d'étude le plus récent de Mourad est : {mourad_programme_recent}\")"
   ]
  },
  {
   "cell_type": "code",
   "execution_count": 219,
   "id": "6873e79a-107a-483b-bf3e-b19edd42ccc4",
   "metadata": {
    "tags": []
   },
   "outputs": [
    {
     "name": "stdout",
     "output_type": "stream",
     "text": [
      "Les compétences mises à jour de Sabrina sont : {'Statistiques', 'Excel', 'Marketing', 'R'}\n"
     ]
    }
   ],
   "source": [
    "donnees_etudiants[20312][2].add('R')\n",
    "print(f\"Les compétences mises à jour de Sabrina sont : {donnees_etudiants[20312][2]}\")\n"
   ]
  },
  {
   "cell_type": "code",
   "execution_count": 232,
   "id": "06f86f1d-b4e0-48ac-be70-e0a7e3ed7b1a",
   "metadata": {
    "tags": []
   },
   "outputs": [
    {
     "name": "stdout",
     "output_type": "stream",
     "text": [
      "Les compétences communes entre Mourad et Sabrina sont : set()\n"
     ]
    }
   ],
   "source": [
    "def comparer_competences(etudiant1_id, etudiant2_id, donnees):\n",
    "    competences_etudiant1 = donnees[etudiant1_id][2]\n",
    "    competences_etudiant2 = donnees[etudiant2_id][2]\n",
    "    competences_communes = competences_etudiant1.intersection(competences_etudiant2)\n",
    "    return competences_communes\n",
    "\n",
    "competences_communes = comparer_competences(32075, 20312, donnees_etudiants)\n",
    "print(f\"Les compétences communes entre Mourad et Sabrina sont : {competences_communes}\")"
   ]
  }
 ],
 "metadata": {
  "kernelspec": {
   "display_name": "Python 3 (ipykernel)",
   "language": "python",
   "name": "python3"
  },
  "language_info": {
   "codemirror_mode": {
    "name": "ipython",
    "version": 3
   },
   "file_extension": ".py",
   "mimetype": "text/x-python",
   "name": "python",
   "nbconvert_exporter": "python",
   "pygments_lexer": "ipython3",
   "version": "3.11.7"
  }
 },
 "nbformat": 4,
 "nbformat_minor": 5
}
