{
 "cells": [
  {
   "cell_type": "markdown",
   "id": "59fb447d",
   "metadata": {},
   "source": [
    "# 1. Opérateurs Arithmétiques"
   ]
  },
  {
   "cell_type": "markdown",
   "id": "72a86a88",
   "metadata": {},
   "source": [
    "### Exercice 1.1 : Calculs Simples\n",
    "\n",
    "Calculez la somme de 23 et 19.  \n",
    "Soustrayez 15 de 45.     \n",
    "Multipliez 12 par 4.  \n",
    "Divisez 100 par 5.   \n",
    "Trouvez le reste de la division de 28 par 6. "
   ]
  },
  {
   "cell_type": "markdown",
   "id": "cf0c1403",
   "metadata": {},
   "source": [
    "### Exercice 1.2 : Combinaison d'Opérateurs\n",
    "\n",
    "Calculez la moyenne de trois nombres : 10, 20, et 30.  \n",
    "Doublez la somme de 14 et 16, puis soustrayez 10.  "
   ]
  },
  {
   "cell_type": "code",
   "execution_count": 4,
   "id": "8e1446f7",
   "metadata": {},
   "outputs": [
    {
     "data": {
      "text/plain": [
       "42"
      ]
     },
     "execution_count": 4,
     "metadata": {},
     "output_type": "execute_result"
    }
   ],
   "source": [
    "23 + 19"
   ]
  },
  {
   "cell_type": "code",
   "execution_count": 5,
   "id": "ab5e2929-f9f1-4b2e-8482-4794c818527e",
   "metadata": {},
   "outputs": [
    {
     "data": {
      "text/plain": [
       "-30"
      ]
     },
     "execution_count": 5,
     "metadata": {},
     "output_type": "execute_result"
    }
   ],
   "source": [
    "15 - 45"
   ]
  },
  {
   "cell_type": "code",
   "execution_count": 6,
   "id": "b5760b0e-35e6-4358-b474-ba3dd3472059",
   "metadata": {},
   "outputs": [
    {
     "data": {
      "text/plain": [
       "48"
      ]
     },
     "execution_count": 6,
     "metadata": {},
     "output_type": "execute_result"
    }
   ],
   "source": [
    "12 * 4"
   ]
  },
  {
   "cell_type": "code",
   "execution_count": 7,
   "id": "ef2ef744-b37e-4c89-a5d4-b8f8196e68ed",
   "metadata": {},
   "outputs": [
    {
     "data": {
      "text/plain": [
       "20.0"
      ]
     },
     "execution_count": 7,
     "metadata": {},
     "output_type": "execute_result"
    }
   ],
   "source": [
    "100 / 5"
   ]
  },
  {
   "cell_type": "markdown",
   "id": "f11686e3",
   "metadata": {
    "jp-MarkdownHeadingCollapsed": true
   },
   "source": [
    "#### 2. Les Types"
   ]
  },
  {
   "cell_type": "markdown",
   "id": "8c350f42",
   "metadata": {},
   "source": [
    "### Exercice 2.1 : Identification de Types\n",
    "\n",
    "Identifiez le type de chacune des valeurs suivantes : 42, 3.14, True, \"Python\"."
   ]
  },
  {
   "cell_type": "code",
   "execution_count": 8,
   "id": "098ff076",
   "metadata": {},
   "outputs": [
    {
     "data": {
      "text/plain": [
       "int"
      ]
     },
     "execution_count": 8,
     "metadata": {},
     "output_type": "execute_result"
    }
   ],
   "source": [
    "type(42)"
   ]
  },
  {
   "cell_type": "code",
   "execution_count": 10,
   "id": "ac38d8d9-8239-4145-8662-ab0582fa9397",
   "metadata": {},
   "outputs": [
    {
     "data": {
      "text/plain": [
       "float"
      ]
     },
     "execution_count": 10,
     "metadata": {},
     "output_type": "execute_result"
    }
   ],
   "source": [
    "type(3.14)"
   ]
  },
  {
   "cell_type": "code",
   "execution_count": 11,
   "id": "096d5923-7657-47cd-be9d-b10f21b04eb6",
   "metadata": {},
   "outputs": [
    {
     "data": {
      "text/plain": [
       "bool"
      ]
     },
     "execution_count": 11,
     "metadata": {},
     "output_type": "execute_result"
    }
   ],
   "source": [
    "type(True)"
   ]
  },
  {
   "cell_type": "code",
   "execution_count": 13,
   "id": "6c410994-da10-4880-a743-9f52fa455c13",
   "metadata": {},
   "outputs": [
    {
     "data": {
      "text/plain": [
       "str"
      ]
     },
     "execution_count": 13,
     "metadata": {},
     "output_type": "execute_result"
    }
   ],
   "source": [
    "type(\"Python\")"
   ]
  },
  {
   "cell_type": "markdown",
   "id": "cabf5ede",
   "metadata": {},
   "source": [
    "### Exercice 2.2 : Conversion de Types\n",
    "\n",
    "Convertissez 50 en float.  \n",
    "Convertissez 3.999 en int.  \n",
    "Convertissez True en int, puis en str.  "
   ]
  },
  {
   "cell_type": "code",
   "execution_count": 14,
   "id": "a9a0634c",
   "metadata": {},
   "outputs": [
    {
     "data": {
      "text/plain": [
       "50.0"
      ]
     },
     "execution_count": 14,
     "metadata": {},
     "output_type": "execute_result"
    }
   ],
   "source": [
    "float(50)"
   ]
  },
  {
   "cell_type": "code",
   "execution_count": 15,
   "id": "39e3c57d-8159-4ef2-a272-40a296b931f0",
   "metadata": {},
   "outputs": [
    {
     "data": {
      "text/plain": [
       "3"
      ]
     },
     "execution_count": 15,
     "metadata": {},
     "output_type": "execute_result"
    }
   ],
   "source": [
    "int(3.999)"
   ]
  },
  {
   "cell_type": "code",
   "execution_count": 25,
   "id": "1110a079-1425-4f28-8f33-5ad13c83f53b",
   "metadata": {},
   "outputs": [],
   "source": [
    "valeur_booleenne = True"
   ]
  },
  {
   "cell_type": "code",
   "execution_count": 27,
   "id": "12bc920a-b4ce-4933-b9af-677c8f50390f",
   "metadata": {},
   "outputs": [],
   "source": [
    "valeur_entier = int(valeur_booleenne)"
   ]
  },
  {
   "cell_type": "code",
   "execution_count": 28,
   "id": "e33239fa-5506-4e77-9243-b6a01449b77a",
   "metadata": {},
   "outputs": [],
   "source": [
    "valeur_chaine = str(valeur_entier)"
   ]
  },
  {
   "cell_type": "code",
   "execution_count": 29,
   "id": "cac6f4b1-6b55-424a-978d-5d7ac84d5980",
   "metadata": {},
   "outputs": [
    {
     "name": "stdout",
     "output_type": "stream",
     "text": [
      "1\n"
     ]
    }
   ],
   "source": [
    "print(valeur_chaine)  "
   ]
  },
  {
   "cell_type": "markdown",
   "id": "c683c1d8",
   "metadata": {},
   "source": [
    "# 3. Opérateur de Comparaison et Opérateurs Logiques"
   ]
  },
  {
   "cell_type": "markdown",
   "id": "06ba3568",
   "metadata": {},
   "source": [
    "### Exercice 3.1 : Comparaisons Simples\n",
    "\n",
    "Vérifiez si 10 est supérieur à 3.  \n",
    "Comparez si 25 est égal à 30.  \n",
    "Vérifiez si 'a' est différent de 'b'.  "
   ]
  },
  {
   "cell_type": "code",
   "execution_count": 32,
   "id": "467d3b4a",
   "metadata": {},
   "outputs": [
    {
     "name": "stdout",
     "output_type": "stream",
     "text": [
      "True\n"
     ]
    }
   ],
   "source": [
    "est_superieur = 10 > 3\n",
    "print(est_superieur)"
   ]
  },
  {
   "cell_type": "code",
   "execution_count": 33,
   "id": "1d61fd3d-3211-4961-808a-a45f88b566cb",
   "metadata": {},
   "outputs": [
    {
     "name": "stdout",
     "output_type": "stream",
     "text": [
      "False\n"
     ]
    }
   ],
   "source": [
    "est_egal = 25 == 30\n",
    "print(est_egal)  "
   ]
  },
  {
   "cell_type": "code",
   "execution_count": 34,
   "id": "33c7a4a3-2fde-499f-ba36-ab0f4abe4ab8",
   "metadata": {},
   "outputs": [
    {
     "name": "stdout",
     "output_type": "stream",
     "text": [
      "True\n"
     ]
    }
   ],
   "source": [
    "est_different = 'a' != 'b'\n",
    "print(est_different) "
   ]
  },
  {
   "cell_type": "markdown",
   "id": "25b1e52b",
   "metadata": {},
   "source": [
    "### Exercice 3.2 : Utilisation des Opérateurs Logiques\n",
    "\n",
    "Déterminez si 20 est supérieur à 10 et que 5 est inférieur à 8.  \n",
    "Vérifiez si 100 est égal à 100 ou si 50 est supérieur à 60.  "
   ]
  },
  {
   "cell_type": "code",
   "execution_count": 35,
   "id": "9d2ae4ac",
   "metadata": {},
   "outputs": [
    {
     "name": "stdout",
     "output_type": "stream",
     "text": [
      "True\n",
      "True\n"
     ]
    }
   ],
   "source": [
    "condition1 = (20 > 10) and (5 < 8)\n",
    "print(condition1)  \n",
    "\n",
    "condition2 = (100 == 100) or (50 > 60)\n",
    "print(condition2)  # Cela affichera True\n"
   ]
  },
  {
   "cell_type": "markdown",
   "id": "521d39df",
   "metadata": {},
   "source": [
    "# 4. Variables et Réaffectation"
   ]
  },
  {
   "cell_type": "markdown",
   "id": "27d1a309",
   "metadata": {},
   "source": [
    "### Exercice 4.1 : Création et Affectation\n",
    "\n",
    "Créez une variable x ayant pour valeur 10. Incrémentez x de 5. Affichez le résultat."
   ]
  },
  {
   "cell_type": "code",
   "execution_count": 36,
   "id": "df3c167a",
   "metadata": {},
   "outputs": [
    {
     "name": "stdout",
     "output_type": "stream",
     "text": [
      "15\n"
     ]
    }
   ],
   "source": [
    "x = 10\n",
    "x += 5\n",
    "print(x)  \n"
   ]
  },
  {
   "cell_type": "markdown",
   "id": "c05309bc",
   "metadata": {},
   "source": [
    "## Exercice 4.2 : Réaffectation et Opérateurs\n",
    "\n",
    "Créez une variable score à 0. Ajoutez 10 à score en utilisant un opérateur de réaffectation. Affichez le résultat."
   ]
  },
  {
   "cell_type": "code",
   "execution_count": 37,
   "id": "8a682deb",
   "metadata": {},
   "outputs": [
    {
     "name": "stdout",
     "output_type": "stream",
     "text": [
      "10\n"
     ]
    }
   ],
   "source": [
    "score = 0\n",
    "score += 10\n",
    "print(score) \n"
   ]
  },
  {
   "cell_type": "markdown",
   "id": "7ba9a5b6",
   "metadata": {},
   "source": [
    "# 5. Les Chaînes de Caractères"
   ]
  },
  {
   "cell_type": "markdown",
   "id": "d70bab3a",
   "metadata": {},
   "source": [
    "## Exercice 5.1 : Manipulation de Chaînes\n",
    "\n",
    "Créez une chaîne de caractères \"Python\" et accédez au premier et dernier caractère.  \n",
    "Inversez la chaîne \"hello\" en utilisant l'indiçage.  \n",
    "Concaténez deux chaînes de caractères \"Hello, \" et \"world!\"."
   ]
  },
  {
   "cell_type": "code",
   "execution_count": 38,
   "id": "d326e1f3",
   "metadata": {},
   "outputs": [
    {
     "name": "stdout",
     "output_type": "stream",
     "text": [
      "Premier caractère: P\n",
      "Dernier caractère: n\n"
     ]
    }
   ],
   "source": [
    "chaine = \"Python\"\n",
    "premier_caractere = chaine[0]\n",
    "dernier_caractere = chaine[-1]\n",
    "print(\"Premier caractère:\", premier_caractere) \n",
    "print(\"Dernier caractère:\", dernier_caractere) \n"
   ]
  },
  {
   "cell_type": "code",
   "execution_count": 39,
   "id": "7d7ff167-10ee-43a5-8b25-bea2d2c7d27b",
   "metadata": {},
   "outputs": [
    {
     "name": "stdout",
     "output_type": "stream",
     "text": [
      "Chaîne inversée: olleh\n"
     ]
    }
   ],
   "source": [
    "chaine_a_inverser = \"hello\"\n",
    "chaine_inversee = chaine_a_inverser[::-1]\n",
    "print(\"Chaîne inversée:\", chaine_inversee)  \n"
   ]
  },
  {
   "cell_type": "code",
   "execution_count": 40,
   "id": "4e007003-cff1-48a3-b302-e6960c3ca568",
   "metadata": {},
   "outputs": [
    {
     "name": "stdout",
     "output_type": "stream",
     "text": [
      "Hello, world!\n"
     ]
    }
   ],
   "source": [
    "chaine1 = \"Hello, \"\n",
    "chaine2 = \"world!\"\n",
    "chaine_concatenee = chaine1 + chaine2\n",
    "print(chaine_concatenee)  # Cela affichera \"Hello, world!\"\n",
    "\n"
   ]
  },
  {
   "cell_type": "markdown",
   "id": "309a77d0",
   "metadata": {},
   "source": [
    "### Exercice 5.2 : Plus sur les Chaînes\n",
    "\n",
    "Vérifiez si le mot \"data\" est dans la chaîne \"Data science is cool\".  \n",
    "Formatez la chaîne \"Le nombre {} est pair.\" avec un nombre de votre choix.  \n",
    "Transformez la chaîne \"PYTHON\" en minuscules."
   ]
  },
  {
   "cell_type": "code",
   "execution_count": 41,
   "id": "7191b067",
   "metadata": {},
   "outputs": [
    {
     "name": "stdout",
     "output_type": "stream",
     "text": [
      "True\n"
     ]
    }
   ],
   "source": [
    "chaine = \"Data science is cool\"\n",
    "mot = \"data\"\n",
    "presence_mot = mot.lower() in chaine.lower()\n",
    "print(presence_mot)  \n"
   ]
  },
  {
   "cell_type": "code",
   "execution_count": 43,
   "id": "fa9d61af-876a-4ce1-987f-56158834c80a",
   "metadata": {},
   "outputs": [
    {
     "name": "stdout",
     "output_type": "stream",
     "text": [
      "Le nombre 4 est pair.\n"
     ]
    }
   ],
   "source": [
    "nombre = 4\n",
    "chaine_formatee = \"Le nombre {} est pair.\".format(nombre)\n",
    "print(chaine_formatee)  "
   ]
  },
  {
   "cell_type": "code",
   "execution_count": 44,
   "id": "f3d37702-fb1b-4f30-88e5-8feffbe7db64",
   "metadata": {},
   "outputs": [
    {
     "name": "stdout",
     "output_type": "stream",
     "text": [
      "python\n"
     ]
    }
   ],
   "source": [
    "chaine = \"PYTHON\"\n",
    "chaine_minuscules = chaine.lower()\n",
    "print(chaine_minuscules) \n"
   ]
  },
  {
   "cell_type": "code",
   "execution_count": null,
   "id": "8dacae1e-bb60-498e-82dd-6afd9b91e459",
   "metadata": {},
   "outputs": [],
   "source": []
  }
 ],
 "metadata": {
  "kernelspec": {
   "display_name": "Python 3 (ipykernel)",
   "language": "python",
   "name": "python3"
  },
  "language_info": {
   "codemirror_mode": {
    "name": "ipython",
    "version": 3
   },
   "file_extension": ".py",
   "mimetype": "text/x-python",
   "name": "python",
   "nbconvert_exporter": "python",
   "pygments_lexer": "ipython3",
   "version": "3.11.7"
  }
 },
 "nbformat": 4,
 "nbformat_minor": 5
}
