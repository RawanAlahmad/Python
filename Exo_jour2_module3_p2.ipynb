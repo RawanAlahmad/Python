{
 "cells": [
  {
   "cell_type": "markdown",
   "id": "ae44a861-5f82-47ca-b719-34d485b1ba26",
   "metadata": {},
   "source": [
    "### Exercice 1 : Manipulation de liste\n",
    "1. Créez une liste contenant les nombres 1 à 5, puis affichez-la.\n",
    "2. Ajoutez le nombre 6 à la fin de la liste, puis affichez la liste mise à jour.\n",
    "3. Supprimez le troisième élément de la liste, puis affichez la liste mise à jour.\n",
    "4. Parcourez la liste avec une boucle for et affichez chaque élément multiplié\n",
    "par 2."
   ]
  },
  {
   "cell_type": "code",
   "execution_count": 75,
   "id": "a09af614-40c4-4b43-befa-c46beaa81c25",
   "metadata": {
    "tags": []
   },
   "outputs": [
    {
     "name": "stdout",
     "output_type": "stream",
     "text": [
      "Liste initiale: [1, 2, 3, 4, 5]\n"
     ]
    }
   ],
   "source": [
    "# 1:  Créez une liste contenant les nombres 1 à 5, puis affichez-la.\n",
    "liste_nombres = [1, 2, 3, 4, 5]\n",
    "print(\"Liste initiale:\", liste_nombres)"
   ]
  },
  {
   "cell_type": "code",
   "execution_count": 77,
   "id": "098fe845-2417-49a7-ae4a-b18bf84b00aa",
   "metadata": {
    "tags": []
   },
   "outputs": [
    {
     "name": "stdout",
     "output_type": "stream",
     "text": [
      "Liste après ajout de 6: [1, 2, 3, 4, 5, 6]\n"
     ]
    }
   ],
   "source": [
    "# 2: Ajoutez le nombre 6 à la fin de la liste, puis affichez la liste mise à jour\n",
    "liste_nombres.append(6)\n",
    "print(\"Liste après ajout de 6:\", liste_nombres)"
   ]
  },
  {
   "cell_type": "code",
   "execution_count": 79,
   "id": "38bbf236-83da-4aa8-9bca-e0016b450e23",
   "metadata": {
    "tags": []
   },
   "outputs": [
    {
     "name": "stdout",
     "output_type": "stream",
     "text": [
      "Liste après suppression du troisième élément: [1, 2, 4, 5, 6]\n"
     ]
    }
   ],
   "source": [
    "#  3: Supprimez le troisième élément de la liste, puis affichez la liste mise à jour\n",
    "del liste_nombres[2]\n",
    "print(\"Liste après suppression du troisième élément:\", liste_nombres)"
   ]
  },
  {
   "cell_type": "code",
   "execution_count": 81,
   "id": "f73ad835-dbca-41cd-955e-9fffedc3eaa5",
   "metadata": {
    "tags": []
   },
   "outputs": [
    {
     "name": "stdout",
     "output_type": "stream",
     "text": [
      "Éléments multipliés par 2:\n",
      "2\n",
      "4\n",
      "8\n",
      "10\n",
      "12\n"
     ]
    }
   ],
   "source": [
    "#  4: Parcourez la liste avec une boucle for et affichez chaque élément multiplié par 2\n",
    "print(\"Éléments multipliés par 2:\")\n",
    "for nombre in liste_nombres:\n",
    "    print(nombre * 2)"
   ]
  },
  {
   "cell_type": "markdown",
   "id": "96d09543-99d7-4e05-9aa5-927085532823",
   "metadata": {
    "tags": []
   },
   "source": [
    "### Exercice 2 : Manipulation de dictionnaire\n",
    "1. Créez un dictionnaire représentant un livre, avec des clés pour \"titre\", \"auteur\"\n",
    "et \"année\", puis affichez-le.\n",
    "2. Ajoutez une clé \"genre\" avec une valeur appropriée au dictionnaire, puis\n",
    "affichez le dictionnaire mis à jour.\n",
    "3. Supprimez la clé \"année\" du dictionnaire, puis affichez le dictionnaire mis à\n",
    "jour.\n",
    "4. Parcourez le dictionnaire avec une boucle for et affichez chaque paire clé-\n",
    "valeur"
   ]
  },
  {
   "cell_type": "code",
   "execution_count": 84,
   "id": "aed6e6f8-b636-465e-8d02-77dc43de8c1a",
   "metadata": {
    "tags": []
   },
   "outputs": [
    {
     "name": "stdout",
     "output_type": "stream",
     "text": [
      "Présentation du livre: {'titre': 'The Firm', 'auteur': 'John Grisham', 'année': 1992}\n"
     ]
    }
   ],
   "source": [
    " #1. Créez un dictionnaire représentant un livre, avec des clés pour \"titre\", \"auteur\"et \"année\", puis affichez-le.\n",
    "\n",
    " livre = {\n",
    "    \"titre\": \"The Firm\",\n",
    "    \"auteur\": \"John Grisham\",\n",
    "    \"année\": 1992 }\n",
    "print(\"Présentation du livre:\", livre)    \n"
   ]
  },
  {
   "cell_type": "code",
   "execution_count": 86,
   "id": "7a61411c-19e1-4e2b-9205-006be6ec75ba",
   "metadata": {
    "tags": []
   },
   "outputs": [
    {
     "name": "stdout",
     "output_type": "stream",
     "text": [
      "Présentation du livre après ajout de la clé 'genre': {'titre': 'The Firm', 'auteur': 'John Grisham', 'année': 1992, 'genre': 'Thriller'}\n"
     ]
    }
   ],
   "source": [
    "#2. Ajoutez une clé \"genre\" avec une valeur appropriée au dictionnaire, puis  affichez le dictionnaire mis à jour\n",
    "\n",
    "livre[\"genre\"] = \"Thriller\"\n",
    "print(\"Présentation du livre après ajout de la clé 'genre':\", livre)"
   ]
  },
  {
   "cell_type": "code",
   "execution_count": 88,
   "id": "85a79796-3c72-4b1c-bc64-de6e8cb88ac2",
   "metadata": {
    "tags": []
   },
   "outputs": [
    {
     "name": "stdout",
     "output_type": "stream",
     "text": [
      "Présentation du livre après suppression de la clé 'année': {'titre': 'The Firm', 'auteur': 'John Grisham', 'genre': 'Thriller'}\n"
     ]
    }
   ],
   "source": [
    "#Supprimez la clé \"année\" du dictionnaire, puis affichez le dictionnaire mis à jour.\n",
    "del livre[\"année\"]\n",
    "print(\"Présentation du livre après suppression de la clé 'année':\", livre)"
   ]
  },
  {
   "cell_type": "code",
   "execution_count": 90,
   "id": "9b5ba659-8c5e-47db-8d69-db536faa18c7",
   "metadata": {
    "tags": []
   },
   "outputs": [
    {
     "name": "stdout",
     "output_type": "stream",
     "text": [
      "Paires clé-valeur du livre:\n",
      "titre: The Firm\n",
      "auteur: John Grisham\n",
      "genre: Thriller\n"
     ]
    }
   ],
   "source": [
    "# 4. Parcourez le dictionnaire avec une boucle for et affichez chaque paire clé-valeur\n",
    "print(\"Paires clé-valeur du livre:\")\n",
    "for cle, valeur in livre.items():\n",
    "    print(f\"{cle}: {valeur}\")"
   ]
  },
  {
   "cell_type": "markdown",
   "id": "73b62adb-c9ca-4e0c-8041-1284bc9a300a",
   "metadata": {},
   "source": [
    "### Exercice 3 : Manipulation de set\n",
    "1. Créez deux ensembles set1 contenant les nombres 1, 2, 3, 4 et set2\n",
    "contenant les nombres 3, 4, 5, 6.\n",
    "2. Affichez l'union de set1 et set2.\n",
    "3. Affichez l'intersection de set1 et set2.\n",
    "4. Affichez la différence entre set1 et set2.\n",
    "5. Ajoutez le nombre 7 à set1 et retirez le nombre 1. Affichez set1 mis à jour."
   ]
  },
  {
   "cell_type": "code",
   "execution_count": 97,
   "id": "0ddc19e9-9083-4387-ac55-0abf537c83ff",
   "metadata": {
    "tags": []
   },
   "outputs": [],
   "source": [
    "#  1: Créez deux ensembles set1 et set2 contenant les nombres 1, 2, 3, 4 et set2 contenant les nombres 3, 4, 5, 6.\n",
    "set1 = {1, 2, 3, 4}\n",
    "set2 = {3, 4, 5, 6}"
   ]
  },
  {
   "cell_type": "code",
   "execution_count": 99,
   "id": "aec78d89-7d5b-43cc-b7d7-7401e0ab70fa",
   "metadata": {
    "tags": []
   },
   "outputs": [
    {
     "name": "stdout",
     "output_type": "stream",
     "text": [
      "Union de set1 et set2: {1, 2, 3, 4, 5, 6}\n"
     ]
    }
   ],
   "source": [
    "#  2: Affichez l'union de set1 et set2\n",
    "union_set = set1.union(set2)\n",
    "print(\"Union de set1 et set2:\", union_set)\n"
   ]
  },
  {
   "cell_type": "code",
   "execution_count": 101,
   "id": "698d738d-c414-4026-b12a-9f8c03d75a86",
   "metadata": {
    "tags": []
   },
   "outputs": [
    {
     "name": "stdout",
     "output_type": "stream",
     "text": [
      "Intersection de set1 et set2: {3, 4}\n"
     ]
    }
   ],
   "source": [
    "#  3: Affichez l'intersection de set1 et set2\n",
    "intersection_set = set1.intersection(set2)\n",
    "print(\"Intersection de set1 et set2:\", intersection_set)"
   ]
  },
  {
   "cell_type": "code",
   "execution_count": 103,
   "id": "93681289-8fa3-42f4-9e4e-aa47c1eabbd3",
   "metadata": {
    "tags": []
   },
   "outputs": [
    {
     "name": "stdout",
     "output_type": "stream",
     "text": [
      "Différence entre set1 et set2: {1, 2}\n"
     ]
    }
   ],
   "source": [
    "# 4: Affichez la différence entre set1 et set2\n",
    "difference_set = set1.difference(set2)\n",
    "print(\"Différence entre set1 et set2:\", difference_set)"
   ]
  },
  {
   "cell_type": "code",
   "execution_count": 105,
   "id": "1b1e5358-7620-4de7-996d-3ef831fd8fe6",
   "metadata": {
    "tags": []
   },
   "outputs": [
    {
     "name": "stdout",
     "output_type": "stream",
     "text": [
      "Set1 mis à jour: {2, 3, 4, 7}\n"
     ]
    }
   ],
   "source": [
    "#  5: Ajoutez le nombre 7 à set1 et retirez le nombre 1. Affichez set1 mis à jour\n",
    "set1.add(7)\n",
    "set1.remove(1)\n",
    "print(\"Set1 mis à jour:\", set1)"
   ]
  },
  {
   "cell_type": "markdown",
   "id": "5d356541-9f9a-4afb-a604-bb827080d258",
   "metadata": {},
   "source": [
    "### Exercice 4 : Manipulation de tuple\n",
    "1. Créez un tuple contenant les mois de l'année, puis affichez-le.\n",
    "2. Essayez de modifier le premier élément du tuple pour changer \"Janvier\" en\n",
    "\"janv.\", puis attrapez l'exception TypeError qui en résulte et affichez un\n",
    "message d'erreur approprié.\n",
    "3. Parcourez le tuple avec une boucle for et affichez chaque élément."
   ]
  },
  {
   "cell_type": "code",
   "execution_count": 109,
   "id": "2c34aecc-b9eb-41c0-a83c-d3e6a02a3882",
   "metadata": {
    "tags": []
   },
   "outputs": [
    {
     "name": "stdout",
     "output_type": "stream",
     "text": [
      "Tuple des mois de l'année: ('Janvier', 'Février', 'Mars', 'Avril', 'Mai', 'Juin', 'Juillet', 'Août', 'Septembre', 'Octobre', 'Novembre', 'Décembre')\n"
     ]
    }
   ],
   "source": [
    "# 1: Créez un tuple contenant les mois de l'année, puis affichez-le\n",
    "mois_annee = (\"Janvier\", \"Février\", \"Mars\", \"Avril\", \"Mai\", \"Juin\", \"Juillet\", \"Août\", \"Septembre\", \"Octobre\", \"Novembre\", \"Décembre\")\n",
    "print(\"Tuple des mois de l'année:\", mois_annee)"
   ]
  },
  {
   "cell_type": "code",
   "execution_count": 118,
   "id": "00555bc9-8333-406f-b350-6a56c3f83c24",
   "metadata": {
    "tags": []
   },
   "outputs": [
    {
     "name": "stdout",
     "output_type": "stream",
     "text": [
      "Erreur: Impossible de modifier un élément du tuple. Les tuples sont immuables.\n"
     ]
    }
   ],
   "source": [
    "# 2: Essayez de modifier le premier élément du tuple et attrapez \n",
    "# l'exception TypeError qui en résulte et affichez un message d'erreur approprié.\n",
    "try:\n",
    "    mois_annee[0] = \"janv.\"\n",
    "except TypeError as e:\n",
    "    print(\"Erreur: Impossible de modifier un élément du tuple. Les tuples sont immuables.\")"
   ]
  },
  {
   "cell_type": "code",
   "execution_count": 124,
   "id": "91b2d1dc-c2c4-4e82-b483-f80c55d098ac",
   "metadata": {
    "tags": []
   },
   "outputs": [
    {
     "name": "stdout",
     "output_type": "stream",
     "text": [
      "Les mois de l'année:\n",
      "Janvier\n",
      "Février\n",
      "Mars\n",
      "Avril\n",
      "Mai\n",
      "Juin\n",
      "Juillet\n",
      "Août\n",
      "Septembre\n",
      "Octobre\n",
      "Novembre\n",
      "Décembre\n"
     ]
    }
   ],
   "source": [
    "# 3: Parcourez le tuple avec une boucle for et affichez chaque élément\n",
    "print(\"Les mois de l'année:\")\n",
    "for mois in mois_annee:\n",
    "    print(mois)"
   ]
  },
  {
   "cell_type": "code",
   "execution_count": null,
   "id": "2f470e94-7725-433c-8c33-77a1b41d2ca9",
   "metadata": {},
   "outputs": [],
   "source": []
  }
 ],
 "metadata": {
  "kernelspec": {
   "display_name": "Python 3 (ipykernel)",
   "language": "python",
   "name": "python3"
  },
  "language_info": {
   "codemirror_mode": {
    "name": "ipython",
    "version": 3
   },
   "file_extension": ".py",
   "mimetype": "text/x-python",
   "name": "python",
   "nbconvert_exporter": "python",
   "pygments_lexer": "ipython3",
   "version": "3.11.7"
  }
 },
 "nbformat": 4,
 "nbformat_minor": 5
}
