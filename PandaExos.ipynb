{
 "cells": [
  {
   "cell_type": "markdown",
   "id": "50fbb6c6-bff9-4110-b814-5c65c5e1ae7a",
   "metadata": {},
   "source": [
    "# Exercices – Pandas\n",
    "## Notebook utile: Jour 4 - 4. Bases de Pandas\n",
    " ### Exercice 1 : Création d'une Series manuellement\n",
    "\n",
    " Objectif : Créer une Series représentant les notes d'un groupe d'étudiants.\n",
    " Étapes :\n",
    "1. Importez le module pandas avec l'alias 'pd'.\n",
    "2. Créez une Series avec les valeurs suivantes : 15, 12, 18, 10, en utilisant 'pd.Series()'.\n",
    "3. Attribuez à cette Series les index suivants : ['Alice', 'Bob', 'Clara', 'Dylan'].\n",
    "4. Affichez la Series."
   ]
  },
  {
   "cell_type": "code",
   "execution_count": 16,
   "id": "75769b02-95db-4625-96cb-e0860a295714",
   "metadata": {
    "tags": []
   },
   "outputs": [
    {
     "name": "stdout",
     "output_type": "stream",
     "text": [
      "Alice    15\n",
      "Bob      12\n",
      "Clara    18\n",
      "Dylan    10\n",
      "dtype: int64\n"
     ]
    }
   ],
   "source": [
    "import pandas as pd\n",
    "\n",
    "notes = pd.Series([15, 12, 18, 10], index=['Alice', 'Bob', 'Clara', 'Dylan'])\n",
    "\n",
    "print(notes)\n"
   ]
  },
  {
   "cell_type": "code",
   "execution_count": 10,
   "id": "f2cbdca9-de88-4edb-b6c3-a2efdb3ad37f",
   "metadata": {
    "tags": []
   },
   "outputs": [
    {
     "data": {
      "text/plain": [
       "Alice    15\n",
       "Bob      12\n",
       "Clara    18\n",
       "Dylan    10\n",
       "dtype: int64"
      ]
     },
     "execution_count": 10,
     "metadata": {},
     "output_type": "execute_result"
    }
   ],
   "source": [
    "notes"
   ]
  },
  {
   "cell_type": "markdown",
   "id": "e7125fa8-4998-421c-b86d-74a29b55358a",
   "metadata": {},
   "source": [
    "### Exercice 2 : Création d'une Series à partir d'un dictionnaire\n",
    " Objectif : Créer une Series qui associe à chaque fruit son poids moyen.\n",
    " Étapes :\n",
    "1. Créez un dictionnaire avec les paires clé-valeur suivantes : {'Pomme': 150, 'Banane': 120, \n",
    "'Orange': 130}.\n",
    "2. Utilisez ce dictionnaire pour créer une Series avec 'pd.Series()'.\n",
    "3. Affichez la Series"
   ]
  },
  {
   "cell_type": "code",
   "execution_count": 19,
   "id": "47c0c34d-b8b7-4306-8cdc-874fed8f2201",
   "metadata": {
    "tags": []
   },
   "outputs": [
    {
     "data": {
      "text/plain": [
       "Pomme     150\n",
       "Banane    120\n",
       "Orange    130\n",
       "dtype: int64"
      ]
     },
     "execution_count": 19,
     "metadata": {},
     "output_type": "execute_result"
    }
   ],
   "source": [
    "fruits = {'Pomme': 150, 'Banane': 120, 'Orange': 130}\n",
    "poids_fruits = pd.Series(fruits)\n",
    "\n",
    "poids_fruits\n"
   ]
  },
  {
   "cell_type": "markdown",
   "id": "7d2248ce-bbfc-4f18-8c96-229d3da70eba",
   "metadata": {},
   "source": [
    " ### Exercice 3 : Création d'un DataFrame manuellement\n",
    "Objectif : Créer un DataFrame représentant des données de ventes pour deux produits.\n",
    "Étapes :\n",
    "1. Créez un DataFrame avec les données suivantes en utilisant 'pd.DataFrame()' :\n",
    " - Colonnes : 'Produit', 'Quantité Vendue'\n",
    " - Lignes : ['Produit A', 20], ['Produit B', 35]\n",
    "2. Affichez le DataFrame"
   ]
  },
  {
   "cell_type": "code",
   "execution_count": 22,
   "id": "a288c746-83d1-40cc-b6ef-d191ed873bb4",
   "metadata": {
    "tags": []
   },
   "outputs": [
    {
     "name": "stdout",
     "output_type": "stream",
     "text": [
      "     Produit  Quantité Vendue\n",
      "0  Produit A               20\n",
      "1  Produit B               35\n"
     ]
    }
   ],
   "source": [
    "data = {\n",
    "    'Produit': ['Produit A', 'Produit B'],\n",
    "    'Quantité Vendue': [20, 35]\n",
    "}\n",
    "ventes = pd.DataFrame(data)\n",
    "print(ventes)\n"
   ]
  },
  {
   "cell_type": "markdown",
   "id": "1c389932-3fe8-4a6d-99da-f2664dc9a849",
   "metadata": {},
   "source": [
    " ### Exercice 4 : Création d'un DataFrame à partir d'un dictionnaire contenant \n",
    "des Series\n",
    "Objectif : Créer un DataFrame où chaque colonne est associée à une Series.\n",
    "Étapes :\n",
    "1. Utilisez le dictionnaire suivant pour créer un DataFrame :\n",
    " - 'Nom' : Series(['Alice', 'Bob']),\n",
    " - 'Note' : Series([15, 12])\n",
    "2. Assurez-vous que chaque nom est associé à sa note respective.\n",
    "3. Affichez le DataFrame."
   ]
  },
  {
   "cell_type": "code",
   "execution_count": 25,
   "id": "7bfab325-528f-4365-a483-9cba72ba2f06",
   "metadata": {
    "tags": []
   },
   "outputs": [
    {
     "name": "stdout",
     "output_type": "stream",
     "text": [
      "     Nom  Note\n",
      "0  Alice    15\n",
      "1    Bob    12\n"
     ]
    }
   ],
   "source": [
    "\n",
    "noms = pd.Series(['Alice', 'Bob'])\n",
    "notes = pd.Series([15, 12])\n",
    "\n",
    "data = {\n",
    "    'Nom': noms,\n",
    "    'Note': notes\n",
    "}\n",
    "\n",
    "df = pd.DataFrame(data)\n",
    "\n",
    "print(df)\n"
   ]
  },
  {
   "cell_type": "markdown",
   "id": "1343af9c-ba4b-4267-852d-4e5bb9ce2a9f",
   "metadata": {
    "tags": []
   },
   "source": [
    "### Exercice 5 : Manipulation de DataFrame\n",
    "Objectif : Explorer et manipuler un DataFrame contenant des informations sur des \n",
    "étudiants.\n",
    "Données : Utilisez le DataFrame créé dans l'exercice 4 ou tout autre DataFrame contenant \n",
    "au moins 5 lignes et 2 colonnes.\n",
    "Étapes :\n",
    "1. Affichez les 3 premières lignes du DataFrame avec la méthode '.head()'.\n",
    "2. Sélectionnez une colonne spécifique et affichez-la.\n",
    "3. Utilisez '.loc[]' pour sélectionner les données d'un étudiant spécifique en utilisant son \n",
    "label.\n",
    "4. Utilisez '.iloc[]' pour sélectionner les données d'un étudiant basé sur sa position dans le \n",
    "DataFrame.\n",
    "5. Sélectionnez un sous-ensemble de lignes et de colonnes en utilisant le slicing.\n",
    "6. Triez le DataFrame par une colonne spécifique en utilisant '.sort_values()'\n"
   ]
  },
  {
   "cell_type": "code",
   "execution_count": 34,
   "id": "107b84e8-86f8-4f7f-83c4-b9defcb979f9",
   "metadata": {
    "tags": []
   },
   "outputs": [
    {
     "name": "stdout",
     "output_type": "stream",
     "text": [
      "Les 3 premières lignes du DataFrame:\n",
      "     Nom  Note\n",
      "0  Alice    15\n",
      "1    Bob    12\n",
      "2  Clara    18\n",
      "\n",
      "La colonne 'Note':\n",
      "0    15\n",
      "1    12\n",
      "2    18\n",
      "3    10\n",
      "4    16\n",
      "Name: Note, dtype: int64\n",
      "\n",
      "Données de l'étudiant 'Clara' utilisant .loc[]:\n",
      "Nom     Clara\n",
      "Note       18\n",
      "Name: 2, dtype: object\n",
      "\n",
      "Données de l'étudiant en position 1 utilisant .iloc[]:\n",
      "Nom     Bob\n",
      "Note     12\n",
      "Name: 1, dtype: object\n",
      "\n",
      "Sous-ensemble de lignes et de colonnes (lignes 1 à 3, colonnes 'Nom' et 'Note'):\n",
      "     Nom  Note\n",
      "1    Bob    12\n",
      "2  Clara    18\n",
      "3  Dylan    10\n",
      "\n",
      "DataFrame trié par la colonne 'Note':\n",
      "     Nom  Note\n",
      "3  Dylan    10\n",
      "1    Bob    12\n",
      "0  Alice    15\n",
      "4    Eve    16\n",
      "2  Clara    18\n"
     ]
    }
   ],
   "source": [
    "\n",
    "# Création du DataFrame de l'exercice 4\n",
    "noms = pd.Series(['Alice', 'Bob', 'Clara', 'Dylan', 'Eve'])\n",
    "notes = pd.Series([15, 12, 18, 10, 16])\n",
    "\n",
    "data = {\n",
    "    'Nom': noms,\n",
    "    'Note': notes\n",
    "}\n",
    "\n",
    "df = pd.DataFrame(data)\n",
    "\n",
    "# Étape 1: Affichage des 3 premières lignes\n",
    "print(\"Les 3 premières lignes du DataFrame:\")\n",
    "print(df.head(3))\n",
    "\n",
    "# Étape 2: Sélection d'une colonne spécifique et affichage\n",
    "print(\"\\nLa colonne 'Note':\")\n",
    "print(df['Note'])\n",
    "\n",
    "# Étape 3: Utilisation de '.loc[]' pour sélectionner les données d'un étudiant spécifique\n",
    "print(\"\\nDonnées de l'étudiant 'Clara' utilisant .loc[]:\")\n",
    "print(df.loc[2])  # Clara est à l'index 2\n",
    "\n",
    "# Étape 4: Utilisation de '.iloc[]' pour sélectionner les données d'un étudiant basé sur sa position\n",
    "print(\"\\nDonnées de l'étudiant en position 1 utilisant .iloc[]:\")\n",
    "print(df.iloc[1])  # Bob est en position 1\n",
    "\n",
    "# Étape 5: Sélection d'un sous-ensemble de lignes et de colonnes en utilisant le slicing\n",
    "print(\"\\nSous-ensemble de lignes et de colonnes (lignes 1 à 3, colonnes 'Nom' et 'Note'):\")\n",
    "print(df.loc[1:3, ['Nom', 'Note']])\n",
    "\n",
    "# Étape 6: Tri du DataFrame par une colonne spécifique\n",
    "print(\"\\nDataFrame trié par la colonne 'Note':\")\n",
    "print(df.sort_values(by='Note'))\n"
   ]
  },
  {
   "cell_type": "code",
   "execution_count": null,
   "id": "a26deacd-7e81-41cf-afe7-7c0726d4b39b",
   "metadata": {},
   "outputs": [],
   "source": []
  }
 ],
 "metadata": {
  "kernelspec": {
   "display_name": "Python 3 (ipykernel)",
   "language": "python",
   "name": "python3"
  },
  "language_info": {
   "codemirror_mode": {
    "name": "ipython",
    "version": 3
   },
   "file_extension": ".py",
   "mimetype": "text/x-python",
   "name": "python",
   "nbconvert_exporter": "python",
   "pygments_lexer": "ipython3",
   "version": "3.11.7"
  }
 },
 "nbformat": 4,
 "nbformat_minor": 5
}
