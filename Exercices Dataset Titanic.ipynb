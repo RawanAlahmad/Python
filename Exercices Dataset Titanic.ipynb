{
 "cells": [
  {
   "cell_type": "markdown",
   "id": "fe533271-bf88-4323-9af2-7d5ae55f170c",
   "metadata": {},
   "source": [
    "# Exercices Dataset Titanic\n",
    "____________________________________________________________________________________________________"
   ]
  },
  {
   "cell_type": "markdown",
   "id": "9e15b74a-d4c4-4594-a433-377511bc20c8",
   "metadata": {},
   "source": [
    "## Exercice 1: Importation des Données\n",
    "Utilisez la fonction pd.read_excel() pour charger les données du Titanic depuis un fichier\n",
    "Excel nommé 'titanic_dataset.xlsx' dans un DataFrame appelé titanic_data"
   ]
  },
  {
   "cell_type": "code",
   "execution_count": 55,
   "id": "8a656003-0872-4a4a-909e-4917e9db6e06",
   "metadata": {
    "tags": []
   },
   "outputs": [],
   "source": [
    "import numpy as np\n",
    "import matplotlib.pyplot as plt\n",
    "import pandas as pd"
   ]
  },
  {
   "cell_type": "code",
   "execution_count": 57,
   "id": "a9cfd548-310d-4d71-9e82-1c6009708734",
   "metadata": {
    "tags": []
   },
   "outputs": [],
   "source": [
    "titanic_data=pd.read_excel(r\"C:\\Users\\Rawana\\Desktop\\NoteBook Module3\\titanic_dataset.xls\")"
   ]
  },
  {
   "cell_type": "markdown",
   "id": "ea27b17b-c61b-4b66-9508-d63cff9b6f02",
   "metadata": {
    "tags": []
   },
   "source": [
    "## Exercice 2: Nettoyage Initial des Données\n",
    "Supprimez la colonne 'Ticket' du DataFrame titanic_data en utilisant la fonction drop()."
   ]
  },
  {
   "cell_type": "markdown",
   "id": "4e5cc608-e154-42c4-b343-2db672ea8b9c",
   "metadata": {
    "tags": []
   },
   "source": [
    "titanic_data.drop('ticket', axis=1, inplace= True)"
   ]
  },
  {
   "cell_type": "markdown",
   "id": "4a873d47-a346-4ada-bcd4-6cf0b1c18b50",
   "metadata": {},
   "source": [
    "## Exercice 3: Exploration de Données avec value_counts()\n",
    "Utilisez la fonction value_counts() pour afficher le nombre de passagers dans chaque classe\n",
    "de cabine (colonne 'Pclass') dans le DataFrame titanic_data"
   ]
  },
  {
   "cell_type": "code",
   "execution_count": 62,
   "id": "9ab106d8-487b-445e-bdd7-b5c844458841",
   "metadata": {
    "tags": []
   },
   "outputs": [
    {
     "data": {
      "text/plain": [
       "pclass\n",
       "3    709\n",
       "1    323\n",
       "2    277\n",
       "Name: count, dtype: int64"
      ]
     },
     "execution_count": 62,
     "metadata": {},
     "output_type": "execute_result"
    }
   ],
   "source": [
    "titanic_data['pclass'].value_counts()"
   ]
  },
  {
   "cell_type": "markdown",
   "id": "ded998d7-3b42-4e7e-a9b6-ef90bd82d889",
   "metadata": {
    "tags": []
   },
   "source": [
    "## Exercice 4: Analyse Groupée avec groupby()\n",
    "Utilisez groupby() pour calculer le taux moyen de survie par sexe. Affichez les résultats."
   ]
  },
  {
   "cell_type": "code",
   "execution_count": 65,
   "id": "92425f32-6ee5-4799-aa06-3a19f3c9bc25",
   "metadata": {
    "tags": []
   },
   "outputs": [
    {
     "data": {
      "text/plain": [
       "sex\n",
       "female    0.727468\n",
       "male      0.190985\n",
       "Name: survived, dtype: float64"
      ]
     },
     "execution_count": 65,
     "metadata": {},
     "output_type": "execute_result"
    }
   ],
   "source": [
    "titanic_data.groupby('sex')['survived'].mean()"
   ]
  },
  {
   "cell_type": "markdown",
   "id": "5d2a66cc-0d9e-4638-8b78-f46b25c3b3b6",
   "metadata": {},
   "source": [
    "## Exercice 5: Visualisation avec sns.countplot()\n",
    "Importer la Bibliotheque seaborn en tant que sns. Créez un graphique de comptage\n",
    "montrant le nombre de survivants et de non-survivants (colonne 'Survived') pour chaque\n",
    "classe de passager (colonne 'Pclass') en utilisant sns.countplot(). Assurez-vous de séparer\n",
    "les données par sexe en utilisant le paramètre hue."
   ]
  },
  {
   "cell_type": "code",
   "execution_count": 78,
   "id": "09230626-b6fb-49cf-9dfa-886219225b24",
   "metadata": {
    "tags": []
   },
   "outputs": [
    {
     "data": {
      "image/png": "[encoded data removed]",
      "text/plain": [
       "<Figure size 640x480 with 1 Axes>"
      ]
     },
     "metadata": {},
     "output_type": "display_data"
    }
   ],
   "source": [
    "import seaborn as sns \n",
    "sns.countplot(x ='pclass', hue ='sex', data = titanic_data, palette ='Set2')\n",
    "plt.title(\"Nombre de passager par classe et sex\")\n",
    "plt.show()"
   ]
  },
  {
   "cell_type": "markdown",
   "id": "f3b7f608-f670-48b3-aea5-2b694f31d316",
   "metadata": {},
   "source": [
    "## Exercice 6: Comparaison de Groupes avec pd.crosstab()\n",
    "Utilisez pd.crosstab() pour créer un tableau croisé montrant la relation entre la survie\n",
    "(colonne 'Survived') et la classe de passager (colonne 'Pclass')"
   ]
  },
  {
   "cell_type": "code",
   "execution_count": 81,
   "id": "70f0a1ca-6725-4613-8e28-0216a9e37b03",
   "metadata": {
    "tags": []
   },
   "outputs": [
    {
     "data": {
      "text/html": [
       "<div>\n",
       "<style scoped>\n",
       "    .dataframe tbody tr th:only-of-type {\n",
       "        vertical-align: middle;\n",
       "    }\n",
       "\n",
       "    .dataframe tbody tr th {\n",
       "        vertical-align: top;\n",
       "    }\n",
       "\n",
       "    .dataframe thead th {\n",
       "        text-align: right;\n",
       "    }\n",
       "</style>\n",
       "<table border=\"1\" class=\"dataframe\">\n",
       "  <thead>\n",
       "    <tr style=\"text-align: right;\">\n",
       "      <th>pclass</th>\n",
       "      <th>1</th>\n",
       "      <th>2</th>\n",
       "      <th>3</th>\n",
       "    </tr>\n",
       "    <tr>\n",
       "      <th>survived</th>\n",
       "      <th></th>\n",
       "      <th></th>\n",
       "      <th></th>\n",
       "    </tr>\n",
       "  </thead>\n",
       "  <tbody>\n",
       "    <tr>\n",
       "      <th>0</th>\n",
       "      <td>123</td>\n",
       "      <td>158</td>\n",
       "      <td>528</td>\n",
       "    </tr>\n",
       "    <tr>\n",
       "      <th>1</th>\n",
       "      <td>200</td>\n",
       "      <td>119</td>\n",
       "      <td>181</td>\n",
       "    </tr>\n",
       "  </tbody>\n",
       "</table>\n",
       "</div>"
      ],
      "text/plain": [
       "pclass      1    2    3\n",
       "survived               \n",
       "0         123  158  528\n",
       "1         200  119  181"
      ]
     },
     "execution_count": 81,
     "metadata": {},
     "output_type": "execute_result"
    }
   ],
   "source": [
    "pd.crosstab(titanic_data['survived'],titanic_data['pclass'])"
   ]
  },
  {
   "cell_type": "markdown",
   "id": "d125f34a-8526-4149-850e-c094c3376a09",
   "metadata": {},
   "source": [
    "## Exercice 7: Transformation de la Colonne Classe de Passager\n",
    "Créez une fonction nommée describe_class qui prendra comme argument le code de la\n",
    "classe (1, 2, ou 3) et retournera une description plus détaillée de la classe sous forme de\n",
    "chaîne de caractères :\n",
    "\n",
    "'Première Classe' pour la valeur 1.\n",
    "\n",
    "'Deuxième Classe' pour la valeur 2.\n",
    "\n",
    "'Troisième Classe' pour la valeur 3.\n",
    "\n",
    "Utilisez la fonction map() pour appliquer describe_class à la colonne 'pclass' du DataFrame\n",
    "titanic_data et créez une nouvelle colonne 'Class_Description' pour stocker les résultats."
   ]
  },
  {
   "cell_type": "code",
   "execution_count": 89,
   "id": "aae75609-7f92-4c41-a2f4-9d6974703e85",
   "metadata": {
    "tags": []
   },
   "outputs": [],
   "source": [
    "def describe_class(pclass):\n",
    "    if pclass == 1:\n",
    "        return 'Première Classe'\n",
    "    elif pclass == 2:\n",
    "        return 'Deuxième Classe'\n",
    "    elif pclass == 3:\n",
    "        return 'Troisième Classe'\n"
   ]
  },
  {
   "cell_type": "code",
   "execution_count": 95,
   "id": "49d3cb05-e5e4-46e9-8dc3-956f346d4886",
   "metadata": {
    "tags": []
   },
   "outputs": [],
   "source": [
    "titanic_data['class_Description']= titanic_data['pclass'].map(describe_class)\n"
   ]
  },
  {
   "cell_type": "code",
   "execution_count": 97,
   "id": "b9511d11-8cb1-47e3-a868-094d0309bc24",
   "metadata": {
    "tags": []
   },
   "outputs": [
    {
     "data": {
      "text/html": [
       "<div>\n",
       "<style scoped>\n",
       "    .dataframe tbody tr th:only-of-type {\n",
       "        vertical-align: middle;\n",
       "    }\n",
       "\n",
       "    .dataframe tbody tr th {\n",
       "        vertical-align: top;\n",
       "    }\n",
       "\n",
       "    .dataframe thead th {\n",
       "        text-align: right;\n",
       "    }\n",
       "</style>\n",
       "<table border=\"1\" class=\"dataframe\">\n",
       "  <thead>\n",
       "    <tr style=\"text-align: right;\">\n",
       "      <th></th>\n",
       "      <th>pclass</th>\n",
       "      <th>class_Description</th>\n",
       "    </tr>\n",
       "  </thead>\n",
       "  <tbody>\n",
       "    <tr>\n",
       "      <th>717</th>\n",
       "      <td>3</td>\n",
       "      <td>Troisième Classe</td>\n",
       "    </tr>\n",
       "    <tr>\n",
       "      <th>1101</th>\n",
       "      <td>3</td>\n",
       "      <td>Troisième Classe</td>\n",
       "    </tr>\n",
       "    <tr>\n",
       "      <th>357</th>\n",
       "      <td>2</td>\n",
       "      <td>Deuxième Classe</td>\n",
       "    </tr>\n",
       "    <tr>\n",
       "      <th>109</th>\n",
       "      <td>1</td>\n",
       "      <td>Première Classe</td>\n",
       "    </tr>\n",
       "    <tr>\n",
       "      <th>886</th>\n",
       "      <td>3</td>\n",
       "      <td>Troisième Classe</td>\n",
       "    </tr>\n",
       "    <tr>\n",
       "      <th>73</th>\n",
       "      <td>1</td>\n",
       "      <td>Première Classe</td>\n",
       "    </tr>\n",
       "    <tr>\n",
       "      <th>475</th>\n",
       "      <td>2</td>\n",
       "      <td>Deuxième Classe</td>\n",
       "    </tr>\n",
       "    <tr>\n",
       "      <th>232</th>\n",
       "      <td>1</td>\n",
       "      <td>Première Classe</td>\n",
       "    </tr>\n",
       "    <tr>\n",
       "      <th>260</th>\n",
       "      <td>1</td>\n",
       "      <td>Première Classe</td>\n",
       "    </tr>\n",
       "    <tr>\n",
       "      <th>169</th>\n",
       "      <td>1</td>\n",
       "      <td>Première Classe</td>\n",
       "    </tr>\n",
       "  </tbody>\n",
       "</table>\n",
       "</div>"
      ],
      "text/plain": [
       "      pclass class_Description\n",
       "717        3  Troisième Classe\n",
       "1101       3  Troisième Classe\n",
       "357        2   Deuxième Classe\n",
       "109        1   Première Classe\n",
       "886        3  Troisième Classe\n",
       "73         1   Première Classe\n",
       "475        2   Deuxième Classe\n",
       "232        1   Première Classe\n",
       "260        1   Première Classe\n",
       "169        1   Première Classe"
      ]
     },
     "execution_count": 97,
     "metadata": {},
     "output_type": "execute_result"
    }
   ],
   "source": [
    "titanic_data[['pclass','class_Description']].sample(10)"
   ]
  }
 ],
 "metadata": {
  "kernelspec": {
   "display_name": "Python 3 (ipykernel)",
   "language": "python",
   "name": "python3"
  },
  "language_info": {
   "codemirror_mode": {
    "name": "ipython",
    "version": 3
   },
   "file_extension": ".py",
   "mimetype": "text/x-python",
   "name": "python",
   "nbconvert_exporter": "python",
   "pygments_lexer": "ipython3",
   "version": "3.11.7"
  }
 },
 "nbformat": 4,
 "nbformat_minor": 5
}
