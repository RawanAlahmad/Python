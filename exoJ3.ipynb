{
 "cells": [
  {
   "cell_type": "markdown",
   "id": "5d53673a-571f-4ed1-92e8-0e4217718a21",
   "metadata": {},
   "source": [
    "# Exercices sur les structures conditionnelles et les boucles Structures Conditionnelles\n",
    "## 1. Comparaison de Nombres\n",
    " Demandez à l'utilisateur de saisir deux nombres et affichez lequel des deux est le plus grand ou s'ils sont égaux"
   ]
  },
  {
   "cell_type": "code",
   "execution_count": 47,
   "id": "7312c0a9-5b81-45f9-8cbd-2a98ba750576",
   "metadata": {
    "tags": []
   },
   "outputs": [],
   "source": [
    "def comparer_nombres(nombre1, nombre2):\n",
    "    if nombre1 > nombre2:\n",
    "        return f\"Le nombre {nombre1} est plus grand que le nombre {nombre2}.\"\n",
    "    elif nombre1 < nombre2:\n",
    "        return f\"Le nombre {nombre2} est plus grand que le nombre {nombre1}.\"\n",
    "    else:\n",
    "        return \"Les deux nombres sont égaux.\"\n"
   ]
  },
  {
   "cell_type": "code",
   "execution_count": 69,
   "id": "645bad23-bd40-447e-a29d-e2c361bb8b80",
   "metadata": {
    "tags": []
   },
   "outputs": [
    {
     "name": "stdout",
     "output_type": "stream",
     "text": [
      "Le nombre 3 est plus grand que le nombre 2.\n"
     ]
    }
   ],
   "source": [
    "# Appeler la fonction et afficher le résultat\n",
    "resultat = comparer_nombres(2, 3)\n",
    "print(resultat)"
   ]
  },
  {
   "cell_type": "markdown",
   "id": "cf153887-d0f7-47c9-847a-d70edeea341c",
   "metadata": {},
   "source": [
    "## 2. Classification de l'Âge\n",
    " Écrivez un programme qui demande l'âge de l'utilisateur, puis indique si l'utilisateur est un enfant (< 13 ans), un adolescent (13-19 ans), un adulte (20- 65 ans) ou un senior (> 65 ans)"
   ]
  },
  {
   "cell_type": "code",
   "execution_count": 72,
   "id": "18795648-4ba9-46a0-973d-2617d9c55b53",
   "metadata": {
    "tags": []
   },
   "outputs": [],
   "source": [
    "def classifier_age(age):\n",
    "    if age < 13:\n",
    "        return \"Vous êtes un enfant.\"\n",
    "    elif 13 <= age <= 19:\n",
    "        return \"Vous êtes un adolescent.\"\n",
    "    elif 20 <= age <= 65:\n",
    "        return \"Vous êtes un adulte.\"\n",
    "    else:\n",
    "        return \"Vous êtes un senior.\""
   ]
  },
  {
   "cell_type": "code",
   "execution_count": 74,
   "id": "37a6cb95-7410-4413-80e7-4b141202b30c",
   "metadata": {
    "tags": []
   },
   "outputs": [
    {
     "name": "stdout",
     "output_type": "stream",
     "text": [
      "Vous êtes un enfant.\n"
     ]
    }
   ],
   "source": [
    "classification = classifier_age(12)\n",
    "print(classification)"
   ]
  },
  {
   "cell_type": "markdown",
   "id": "36c9eb84-3d54-4f96-a81a-5076fdc1cf7b",
   "metadata": {},
   "source": [
    "## 3. Système de Notation\n",
    " Demandez à l'utilisateur de saisir une note (entre 0 et 100). Ensuite, convertissez cette note en grade A, B, C, D, ou F selon les critères suivants :\n",
    "• A: 90-100\n",
    "\n",
    "• B: 80-89\n",
    "\n",
    "• C: 70-79\n",
    "\n",
    "• D: 60-69\n",
    "\n",
    "• F: <60"
   ]
  },
  {
   "cell_type": "code",
   "execution_count": 154,
   "id": "65cc3523-0923-4565-a4e3-7d4189aa82f6",
   "metadata": {
    "tags": []
   },
   "outputs": [
    {
     "name": "stdout",
     "output_type": "stream",
     "text": [
      "Veuillez saisir une note valide entre 0 et 100.\n"
     ]
    }
   ],
   "source": [
    "def convertir_note_en_grade(note):\n",
    "    grades = {\n",
    "        \"A\": range(90, 101),\n",
    "        \"B\": range(80, 90),\n",
    "        \"C\": range(70, 80),\n",
    "        \"D\": range(60, 70),\n",
    "        \"F\": range(0, 60)\n",
    "    }\n",
    "\n",
    "    for grade, interval in grades.items():\n",
    "        if int(note) in interval:\n",
    "            return grade\n",
    "        \n",
    "    note = float(input(\"Saisissez une note entre 0 et 100 : \"))\n",
    "\n",
    "if 0 <= note <= 100:\n",
    "    grade = convertir_note_en_grade(note)\n",
    "    print(f\"Le grade correspondant à la note {note} est {grade}.\")\n",
    "else:\n",
    "    print(\"Veuillez saisir une note valide entre 0 et 100.\")\n",
    "\n"
   ]
  },
  {
   "cell_type": "markdown",
   "id": "18cbc096-819c-47c7-acce-44ae0ae6f4cd",
   "metadata": {
    "tags": []
   },
   "source": [
    "## 4. Compteur Impair\n",
    " Utilisez une boucle for pour afficher tous les nombres impairs de 1 à 10"
   ]
  },
  {
   "cell_type": "code",
   "execution_count": 157,
   "id": "02d28553-0842-4351-a8f0-2bed60039203",
   "metadata": {
    "tags": []
   },
   "outputs": [
    {
     "name": "stdout",
     "output_type": "stream",
     "text": [
      "1\n",
      "3\n",
      "5\n",
      "7\n",
      "9\n"
     ]
    }
   ],
   "source": [
    "for nombre in range(1, 11):\n",
    "    if nombre % 2 != 0:\n",
    "        print(nombre)"
   ]
  },
  {
   "cell_type": "markdown",
   "id": "1779d24e-a26d-4f69-9aaa-bc373915c5ac",
   "metadata": {},
   "source": [
    "## 5. Table de Multiplication\n",
    "Demandez à l'utilisateur un nombre, puis utilisez une boucle for pour afficher la table de multiplication de ce nombre de 1 à 10."
   ]
  },
  {
   "cell_type": "code",
   "execution_count": 162,
   "id": "e621af40-6c26-4974-a089-655aa5780668",
   "metadata": {
    "tags": []
   },
   "outputs": [
    {
     "name": "stdin",
     "output_type": "stream",
     "text": [
      "Veuillez saisir un nombre :  34\n"
     ]
    },
    {
     "name": "stdout",
     "output_type": "stream",
     "text": [
      "Table de multiplication de 34 :\n",
      "34 x 1 = 34\n",
      "34 x 2 = 68\n",
      "34 x 3 = 102\n",
      "34 x 4 = 136\n",
      "34 x 5 = 170\n",
      "34 x 6 = 204\n",
      "34 x 7 = 238\n",
      "34 x 8 = 272\n",
      "34 x 9 = 306\n",
      "34 x 10 = 340\n"
     ]
    }
   ],
   "source": [
    "nombre = int(input(\"Veuillez saisir un nombre : \"))\n",
    "\n",
    "print(f\"Table de multiplication de {nombre} :\")\n",
    "for i in range(1, 11):\n",
    "    resultat = nombre * i\n",
    "    print(f\"{nombre} x {i} = {resultat}\")\n",
    "\n",
    "    "
   ]
  },
  {
   "cell_type": "markdown",
   "id": "789ce5a9-3732-4b7b-aff2-90738f0fb50c",
   "metadata": {},
   "source": [
    "## 6. Somme des N Premiers Nombres\n",
    " Demandez à l'utilisateur un nombre N, puis calculez la somme de tous les nombres de 1 à N à l'aide d'une boucle for."
   ]
  },
  {
   "cell_type": "code",
   "execution_count": 164,
   "id": "a998970d-7eba-4f6b-abe5-105df038761e",
   "metadata": {
    "tags": []
   },
   "outputs": [
    {
     "name": "stdin",
     "output_type": "stream",
     "text": [
      "Veuillez saisir un nombre N :  54\n"
     ]
    },
    {
     "name": "stdout",
     "output_type": "stream",
     "text": [
      "La somme de tous les nombres de 1 à 54 est 1485.\n"
     ]
    }
   ],
   "source": [
    "N = int(input(\"Veuillez saisir un nombre N : \"))\n",
    "somme = 0\n",
    "for i in range(1, N + 1):\n",
    "    somme += i\n",
    "print(f\"La somme de tous les nombres de 1 à {N} est {somme}.\")\n"
   ]
  },
  {
   "cell_type": "markdown",
   "id": "c6f78235-4343-4a81-a120-c4e67439e0f6",
   "metadata": {
    "tags": []
   },
   "source": [
    "## Boucles While\n",
    "### 7. Devinez le Nombre\n",
    " Créez un jeu simple où l'ordinateur choisit un nombre entre 1 et 100, et\n",
    "l'utilisateur doit le deviner. Après chaque tentative, indiquez si le nombre est\n",
    " plus grand ou plus petit. Utilisez une boucle while pour permettre plusieurs\n",
    " tentatives jusqu'à ce que l'utilisateur trouve le bon nombr"
   ]
  },
  {
   "cell_type": "code",
   "execution_count": 169,
   "id": "784e1aa9-56a0-41f0-b813-a8de145cc469",
   "metadata": {
    "tags": []
   },
   "outputs": [
    {
     "name": "stdin",
     "output_type": "stream",
     "text": [
      "Veuillez saisir un nombre pour calculer sa factorielle :  4\n"
     ]
    },
    {
     "name": "stdout",
     "output_type": "stream",
     "text": [
      "La factorielle de 4 est 1.\n",
      "La factorielle de 4 est 2.\n",
      "La factorielle de 4 est 6.\n",
      "La factorielle de 4 est 24.\n"
     ]
    }
   ],
   "source": [
    "nombre = int(input(\"Veuillez saisir un nombre pour calculer sa factorielle : \"))\n",
    "\n",
    "factorielle = 1\n",
    "\n",
    "compteur = 1\n",
    "\n",
    "while compteur <= nombre:\n",
    "    factorielle *= compteur\n",
    "    compteur += 1\n",
    "\n",
    "\n",
    "    print(f\"La factorielle de {nombre} est {factorielle}.\")\n"
   ]
  },
  {
   "cell_type": "code",
   "execution_count": null,
   "id": "38746c88-7bf1-44b9-9517-eb18d6598a37",
   "metadata": {
    "tags": []
   },
   "outputs": [],
   "source": [
    "\n"
   ]
  },
  {
   "cell_type": "markdown",
   "id": "464ad776-5545-4b04-9fd6-2f270b91bce5",
   "metadata": {},
   "source": [
    "# Exercice sur les fonctions\n",
    "## Exercice 1 : Fonction Basique\n",
    "1. Définissez une fonction nommée sommer.\n",
    "2. La fonction doit prendre deux arguments.\n",
    "3. La fonction doit retourner la somme des deux arguments"
   ]
  },
  {
   "cell_type": "code",
   "execution_count": 185,
   "id": "8b82d656-034e-4809-9def-e2ad6da6b109",
   "metadata": {
    "tags": []
   },
   "outputs": [
    {
     "name": "stdout",
     "output_type": "stream",
     "text": [
      "La somme de 32 et 93 est 125.\n"
     ]
    }
   ],
   "source": [
    "def sommer(a, b):\n",
    "    # Retourner la somme des deux arguments\n",
    "    return a + b\n",
    "\n",
    "# Exemple d'utilisation de la fonction avec des variables pour les arguments\n",
    "a = 32  # Vous pouvez changer cette valeur\n",
    "b = 93  # Vous pouvez changer cette valeur\n",
    "\n",
    "# Appeler la fonction avec les variables a et b\n",
    "resultat = sommer(a, b)\n",
    "\n",
    "# Afficher le résultat en utilisant les variables a et b\n",
    "print(f\"La somme de {a} et {b} est {resultat}.\")"
   ]
  },
  {
   "cell_type": "markdown",
   "id": "1fc7e54a-5874-4a34-96a3-8ffa846f66bf",
   "metadata": {
    "tags": []
   },
   "source": [
    "## Exercice 2 : Fonction de Calcul\n",
    "1. Définissez une fonction nommée calculer_moyenne.\n",
    "2. La fonction doit prendre une liste de nombres comme argument.\n",
    "3. La fonction doit retourner la moyenne de tous les nombres de la\n",
    "liste.\n"
   ]
  },
  {
   "cell_type": "code",
   "execution_count": 195,
   "id": "438886c2-4c3a-41fd-851e-9f5178a0ed88",
   "metadata": {
    "tags": []
   },
   "outputs": [
    {
     "name": "stdout",
     "output_type": "stream",
     "text": [
      "La moyenne des nombres dans la liste [1, 6, 0, 4, 5] est 3.2.\n"
     ]
    }
   ],
   "source": [
    "def calculer_moyenne(nombres):\n",
    "    if len(nombres) == 0:\n",
    "        return 0\n",
    "    somme = sum(nombres)\n",
    "    moyenne = somme / len(nombres)\n",
    "    return moyenne\n",
    "\n",
    "liste_nombres = [1, 6, 0, 4, 5]\n",
    "moyenne = calculer_moyenne(liste_nombres)\n",
    "print(f\"La moyenne des nombres dans la liste {liste_nombres} est {moyenne}.\")\n"
   ]
  },
  {
   "cell_type": "markdown",
   "id": "27392929-d5af-4b5e-b3b4-8e829fd1a953",
   "metadata": {},
   "source": [
    "## Exercice 3 : Traitement de Chaînes de Caractères\n",
    "1. Définissez une fonction nommée compter_voyelles.\n",
    "2. La fonction doit prendre une chaîne de caractères comme\n",
    "argument.\n",
    "3. La fonction doit retourner le nombre de voyelles dans la chaîn"
   ]
  },
  {
   "cell_type": "code",
   "execution_count": 201,
   "id": "4dde42d6-e54b-40bd-96a0-6d997a76bb3a",
   "metadata": {
    "tags": []
   },
   "outputs": [],
   "source": [
    "# Définir la fonction nommée compter_voyelles\n",
    "def compter_voyelles(chaine):\n",
    "    # Définir les voyelles\n",
    "    voyelles = \"aeiouAEIOU\"\n",
    "    # Utiliser filter et lambda pour filtrer les voyelles dans la chaîne\n",
    "    voyelles_filtrees = filter(lambda x: x in voyelles, chaine)\n",
    "    \n",
    "    ''' voyelles_filtrees = filter(lambda x: x in voyelles, chaine) \n",
    "        utilise filter et une fonction lambda pour filtrer les caractères\n",
    "        de la chaîne qui sont des voyelles. La fonction lambda x: x in voyelles\n",
    "        retourne True pour les voyelles et False pour les autres caractères.   '''\n",
    "    # Compter le nombre de voyelles\n",
    "    return len(list(voyelles_filtrees))"
   ]
  },
  {
   "cell_type": "code",
   "execution_count": 203,
   "id": "6f446301-60f2-40a0-bebd-d8aad5aecf70",
   "metadata": {
    "tags": []
   },
   "outputs": [
    {
     "name": "stdout",
     "output_type": "stream",
     "text": [
      "Le nombre de voyelles dans la chaîne est 28.\n"
     ]
    }
   ],
   "source": [
    "chaine = \"Une éducation réussie repose sur la collaboration et la communication.\"\n",
    "nombre_de_voyelles = compter_voyelles(chaine)\n",
    "print(f\"Le nombre de voyelles dans la chaîne est {nombre_de_voyelles}.\")"
   ]
  },
  {
   "cell_type": "markdown",
   "id": "323989c2-91d3-4c82-bf06-78e92536dbe6",
   "metadata": {},
   "source": [
    "## Exercice 4 : Fonction de Filtrage\n",
    "1. Définissez une fonction nommée filtrer_pairs.\n",
    "2. La fonction doit prendre une liste de nombres comme argument.\n",
    "3. La fonction doit retourner une nouvelle liste contenant\n",
    "uniquement les nombres pairs de la liste originale\n"
   ]
  },
  {
   "cell_type": "code",
   "execution_count": 219,
   "id": "dc375e40-d84e-4225-bc08-b6dda52f46d6",
   "metadata": {
    "tags": []
   },
   "outputs": [],
   "source": [
    "# Définir la fonction nommée filtrer_pairs\n",
    "def filtrer_pairs(nombres):\n",
    "    # Utiliser la fonction filter avec une fonction lambda pour filtrer les nombres pairs\n",
    "    pairs = list(filter(lambda x: x % 2 == 0, nombres))\n",
    "    # Vérifier s'il y a des nombres pairs dans la liste\n",
    "    if not pairs:\n",
    "        return \"Il n'y a pas de nombres pairs dans la liste.\"\n",
    "    # Retourner la liste des nombres pairs\n",
    "    return pairs"
   ]
  },
  {
   "cell_type": "code",
   "execution_count": 225,
   "id": "caa6ba75-d21c-4cb4-83ec-e4f6c85ad07c",
   "metadata": {
    "tags": []
   },
   "outputs": [
    {
     "name": "stdout",
     "output_type": "stream",
     "text": [
      "Résultat: Il n'y a pas de nombres pairs dans la liste.\n"
     ]
    }
   ],
   "source": [
    "liste_nombres = [1, 3, 5, 7, 9]\n",
    "resultat = filtrer_pairs(liste_nombres)\n",
    "print(f\"Résultat: {resultat}\")\n"
   ]
  },
  {
   "cell_type": "code",
   "execution_count": 223,
   "id": "e0330163-a373-42af-888b-018fe62f1559",
   "metadata": {
    "tags": []
   },
   "outputs": [
    {
     "name": "stdout",
     "output_type": "stream",
     "text": [
      "Résultat: [2, 4, 6, 8, 10]\n"
     ]
    }
   ],
   "source": [
    "liste_nombres = [1, 2, 3, 4, 5, 6, 7, 8, 9, 10]\n",
    "resultat = filtrer_pairs(liste_nombres)\n",
    "print(f\"Résultat: {resultat}\")\n"
   ]
  },
  {
   "cell_type": "markdown",
   "id": "5efd56cb-b2bb-4c93-82c8-5b606de4e2e1",
   "metadata": {},
   "source": [
    "## Exercice 5 : Manipulation de Dictionnaires\n",
    "1. Définissez une fonction nommée calculer_moyennes.\n",
    "2. La fonction doit prendre un dictionnaire où les clés sont les noms\n",
    "des étudiants et les valeurs sont des listes de notes (nombres).\n",
    "3. La fonction doit retourner un nouveau dictionnaire où chaque clé\n",
    "est un étudiant et la valeur correspondante est la moyenne de ses\n",
    "notes."
   ]
  },
  {
   "cell_type": "code",
   "execution_count": 258,
   "id": "e549fd94-2c5a-4942-8998-c3ef31edc989",
   "metadata": {
    "tags": []
   },
   "outputs": [],
   "source": [
    "def calculer_moyennes(etudiants_notes):\n",
    "    moyennes = {}\n",
    "    for etudiant, notes in etudiants_notes.items():\n",
    "        if len(notes) > 0:\n",
    "            moyenne = sum(notes) / len(notes)\n",
    "        else:\n",
    "            moyenne = 0\n",
    "        moyennes[etudiant] = moyenne\n",
    "    return moyennes"
   ]
  },
  {
   "cell_type": "code",
   "execution_count": 279,
   "id": "2bf49b63-770f-434e-829b-365ae4536b74",
   "metadata": {
    "tags": []
   },
   "outputs": [],
   "source": [
    "etudiants_notes = {\n",
    "    \"Adam\":   [85, 90, 78],\n",
    "    \"Wajd\":   [70, 75, 80],\n",
    "    \"Yakeen\": [92, 88, 84],\n",
    "    \"Tyem\":   [90, 80, 65],\n",
    "    \"Abeir\":  [99, 99, 99],\n",
    "    \"Masa\":   [48, 67, 89],\n",
    "    \"Sham\":   [75, 78, 69],\n",
    "    \"Amr\":    [93, 83, 73],\n",
    "    \"Celeine\":[80, 80, 90],\n",
    "    \"Ismaeil\":[56, 78, 99],\n",
    "    \"Hamza\":  [88, 98, 99],\n",
    "    \"Omar\":   [98, 77, 87]\n",
    "}\n"
   ]
  },
  {
   "cell_type": "code",
   "execution_count": 283,
   "id": "d0a7884b-caf7-4d9a-b0bc-f8177f6c28db",
   "metadata": {
    "tags": []
   },
   "outputs": [
    {
     "name": "stdout",
     "output_type": "stream",
     "text": [
      "Moyennes des étudiants: {'Adam': 84.33333333333333, 'Wajd': 75.0, 'Yakeen': 88.0, 'Tyem': 78.33333333333333, 'Abeir': 99.0, 'Masa': 68.0, 'Sham': 74.0, 'Amr': 83.0, 'Celeine': 83.33333333333333, 'Ismaeil': 77.66666666666667, 'Hamza': 95.0, 'Omar': 87.33333333333333}\n"
     ]
    }
   ],
   "source": [
    "moyennes_etudiants = calculer_moyennes(etudiants_notes)\n",
    "print(\"Moyennes des étudiants:\", moyennes_etudiants)"
   ]
  },
  {
   "cell_type": "code",
   "execution_count": null,
   "id": "313b36d3-2cf5-4e9f-a17e-14e02ec50cc2",
   "metadata": {},
   "outputs": [],
   "source": []
  },
  {
   "cell_type": "code",
   "execution_count": null,
   "id": "e7aff508-18ad-4b3b-b805-c108ceb8411f",
   "metadata": {},
   "outputs": [],
   "source": []
  }
 ],
 "metadata": {
  "kernelspec": {
   "display_name": "Python 3 (ipykernel)",
   "language": "python",
   "name": "python3"
  },
  "language_info": {
   "codemirror_mode": {
    "name": "ipython",
    "version": 3
   },
   "file_extension": ".py",
   "mimetype": "text/x-python",
   "name": "python",
   "nbconvert_exporter": "python",
   "pygments_lexer": "ipython3",
   "version": "3.11.7"
  }
 },
 "nbformat": 4,
 "nbformat_minor": 5
}
